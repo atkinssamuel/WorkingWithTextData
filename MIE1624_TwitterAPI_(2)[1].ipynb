{
 "cells": [
  {
   "cell_type": "markdown",
   "metadata": {},
   "source": [
    "### (1) Demonstrating Python modules and data structures that can be used to efficiently work with Twitter data"
   ]
  },
  {
   "cell_type": "markdown",
   "metadata": {},
   "source": [
    "The following python modules can be used to efficiently work with Twitter data:\n",
    "\n",
    "tweepy (this module will be used in this notebook for our demonstration of the Twitter API for Python)\n",
    "\n",
    "Python Twitter Tools\n",
    "\n",
    "python-twitter\n",
    "\n",
    "twython\n",
    "\n",
    "TwitterAPI\n",
    "\n",
    "TwitterSearch\n",
    "\n",
    "Source: https://stackabuse.com/accessing-the-twitter-api-with-python/\n",
    "  "
   ]
  },
  {
   "cell_type": "markdown",
   "metadata": {},
   "source": [
    "Data structures used in the Python API for Twitter\n",
    "    \n",
    "Typically, Twitter data is pulled using the JSON data structure which you would have to parse either into csv or a pandas dataframe, depending on your purpose of the results.\n",
    "\n",
    "In the module used in this demonstration (Tweepy), tweets are pulled as tweepy objects. These objects are then converted into json so that we can parse through keys and values easier to gather tweet metadata."
   ]
  },
  {
   "cell_type": "markdown",
   "metadata": {},
   "source": [
    "### (2) Using the Twitter API for Python to download tweets, search tweets by hashtags, extract metadata (i.e. number of reteweets, etc.)"
   ]
  },
  {
   "cell_type": "markdown",
   "metadata": {},
   "source": [
    "#### Import the necessary libraries"
   ]
  },
  {
   "cell_type": "code",
   "execution_count": 1,
   "metadata": {},
   "outputs": [
    {
     "name": "stdout",
     "output_type": "stream",
     "text": [
      "Requirement already satisfied: tweepy in c:\\users\\dijia\\anaconda3\\lib\\site-packages (3.9.0)\n",
      "Requirement already satisfied: requests[socks]>=2.11.1 in c:\\users\\dijia\\anaconda3\\lib\\site-packages (from tweepy) (2.24.0)\n",
      "Requirement already satisfied: requests-oauthlib>=0.7.0 in c:\\users\\dijia\\anaconda3\\lib\\site-packages (from tweepy) (1.3.0)\n",
      "Requirement already satisfied: six>=1.10.0 in c:\\users\\dijia\\anaconda3\\lib\\site-packages (from tweepy) (1.15.0)\n",
      "Requirement already satisfied: urllib3!=1.25.0,!=1.25.1,<1.26,>=1.21.1 in c:\\users\\dijia\\anaconda3\\lib\\site-packages (from requests[socks]>=2.11.1->tweepy) (1.25.9)\n",
      "Requirement already satisfied: certifi>=2017.4.17 in c:\\users\\dijia\\anaconda3\\lib\\site-packages (from requests[socks]>=2.11.1->tweepy) (2020.6.20)\n",
      "Requirement already satisfied: idna<3,>=2.5 in c:\\users\\dijia\\anaconda3\\lib\\site-packages (from requests[socks]>=2.11.1->tweepy) (2.10)\n",
      "Requirement already satisfied: chardet<4,>=3.0.2 in c:\\users\\dijia\\anaconda3\\lib\\site-packages (from requests[socks]>=2.11.1->tweepy) (3.0.4)\n",
      "Requirement already satisfied: PySocks!=1.5.7,>=1.5.6; extra == \"socks\" in c:\\users\\dijia\\anaconda3\\lib\\site-packages (from requests[socks]>=2.11.1->tweepy) (1.7.1)\n",
      "Requirement already satisfied: oauthlib>=3.0.0 in c:\\users\\dijia\\anaconda3\\lib\\site-packages (from requests-oauthlib>=0.7.0->tweepy) (3.1.0)\n"
     ]
    }
   ],
   "source": [
    "!pip install tweepy\n",
    "import tweepy as tw\n",
    "import datetime\n",
    "import tweepy\n",
    "import csv"
   ]
  },
  {
   "cell_type": "markdown",
   "metadata": {},
   "source": [
    "#### State the keys to authenticate to the Twitter API. You will need to setup and be approved for a Developer account in order to receive these keys."
   ]
  },
  {
   "cell_type": "code",
   "execution_count": 2,
   "metadata": {},
   "outputs": [],
   "source": [
    "consumer_key= 'crdecmmwhUaTV7oitShaB7xlV'\n",
    "consumer_secret= 'pEE16H07j9ygOmaxPyJBlW9LUZIrkjOwSyBwhk3DWTS5yZKzEX'\n",
    "access_token= '1242649299978256389-Ba9M1Nudxuue16nFtGAXuzPk5NNnja'\n",
    "access_token_secret= 'Skqz04ZBTGAob4K61cHBSay3myFyGLJiCUFPjd7rxyEIk'\n"
   ]
  },
  {
   "cell_type": "markdown",
   "metadata": {},
   "source": [
    "#### Authenticate to your Twitter App  "
   ]
  },
  {
   "cell_type": "code",
   "execution_count": 3,
   "metadata": {},
   "outputs": [
    {
     "name": "stdout",
     "output_type": "stream",
     "text": [
      "User(_api=<tweepy.api.API object at 0x000002AF392B9B20>, _json={'id': 1242649299978256389, 'id_str': '1242649299978256389', 'name': 'Rohith', 'screen_name': 'rohith_so', 'location': 'Toronto, Canada', 'profile_location': None, 'description': 'PhD researcher in Machine Learning @UofT and Cloud security Engineer @Deloitte', 'url': None, 'entities': {'description': {'urls': []}}, 'protected': True, 'followers_count': 3, 'friends_count': 63, 'listed_count': 0, 'created_at': 'Wed Mar 25 03:07:47 +0000 2020', 'favourites_count': 5, 'utc_offset': None, 'time_zone': None, 'geo_enabled': False, 'verified': False, 'statuses_count': 0, 'lang': None, 'contributors_enabled': False, 'is_translator': False, 'is_translation_enabled': False, 'profile_background_color': 'F5F8FA', 'profile_background_image_url': None, 'profile_background_image_url_https': None, 'profile_background_tile': False, 'profile_image_url': 'http://pbs.twimg.com/profile_images/1257200110250921984/a2rubQEa_normal.jpg', 'profile_image_url_https': 'https://pbs.twimg.com/profile_images/1257200110250921984/a2rubQEa_normal.jpg', 'profile_banner_url': 'https://pbs.twimg.com/profile_banners/1242649299978256389/1588575155', 'profile_link_color': '1DA1F2', 'profile_sidebar_border_color': 'C0DEED', 'profile_sidebar_fill_color': 'DDEEF6', 'profile_text_color': '333333', 'profile_use_background_image': True, 'has_extended_profile': False, 'default_profile': True, 'default_profile_image': False, 'following': False, 'follow_request_sent': False, 'notifications': False, 'translator_type': 'none', 'suspended': False, 'needs_phone_verification': False}, id=1242649299978256389, id_str='1242649299978256389', name='Rohith', screen_name='rohith_so', location='Toronto, Canada', profile_location=None, description='PhD researcher in Machine Learning @UofT and Cloud security Engineer @Deloitte', url=None, entities={'description': {'urls': []}}, protected=True, followers_count=3, friends_count=63, listed_count=0, created_at=datetime.datetime(2020, 3, 25, 3, 7, 47), favourites_count=5, utc_offset=None, time_zone=None, geo_enabled=False, verified=False, statuses_count=0, lang=None, contributors_enabled=False, is_translator=False, is_translation_enabled=False, profile_background_color='F5F8FA', profile_background_image_url=None, profile_background_image_url_https=None, profile_background_tile=False, profile_image_url='http://pbs.twimg.com/profile_images/1257200110250921984/a2rubQEa_normal.jpg', profile_image_url_https='https://pbs.twimg.com/profile_images/1257200110250921984/a2rubQEa_normal.jpg', profile_banner_url='https://pbs.twimg.com/profile_banners/1242649299978256389/1588575155', profile_link_color='1DA1F2', profile_sidebar_border_color='C0DEED', profile_sidebar_fill_color='DDEEF6', profile_text_color='333333', profile_use_background_image=True, has_extended_profile=False, default_profile=True, default_profile_image=False, following=False, follow_request_sent=False, notifications=False, translator_type='none', suspended=False, needs_phone_verification=False)\n"
     ]
    }
   ],
   "source": [
    "auth = tw.OAuthHandler(consumer_key, consumer_secret)\n",
    "auth.set_access_token(access_token, access_token_secret)\n",
    "api = tw.API(auth, wait_on_rate_limit=True)\n",
    "\n",
    "     \n",
    "users = api.me()\n",
    "print(users)"
   ]
  },
  {
   "cell_type": "markdown",
   "metadata": {},
   "source": [
    "#### Search through tweets by hashtags"
   ]
  },
  {
   "cell_type": "code",
   "execution_count": 4,
   "metadata": {},
   "outputs": [
    {
     "name": "stdout",
     "output_type": "stream",
     "text": [
      "<tweepy.cursor.ItemIterator object at 0x000002AF392E5910>\n",
      "1323535350434734080 RT @ForestServiceNW: The #wildfires around the Pacific NW may be contained, but there will be years' worth of work to be done to repair inf…\n",
      "1323535215575371778 RT @jramireztsyl: I just ran the numbers for today's #RSFire2020. To date, we have done 30.6 billion simulations of virtual #wildfires in #…\n",
      "1323534912754982917 RT @jramireztsyl: I just ran the numbers for today's #RSFire2020. To date, we have done 30.6 billion simulations of virtual #wildfires in #…\n",
      "1323531722189799424 People going through 2020 wondering how it all happened without even considering everything that has happened is a… https://t.co/fBHcPo5TPN\n",
      "1323523893248753665 RT @abstractwallart: California #artist Danielle Nelisse paints #abstract landscape #paintings of #daniellenelisse #wildfires | thank you #…\n"
     ]
    }
   ],
   "source": [
    "# Define the search term and the date_since date as variables\n",
    "search_hashtag = \"#wildfires\"\n",
    "date_since = \"2018-11-16\"\n",
    "\n",
    "# Collect tweets\n",
    "tweets = tw.Cursor(api.search,\n",
    "              q=search_hashtag,\n",
    "              lang=\"en\",\n",
    "              since=date_since).items(5)\n",
    "print(tweets)\n",
    "\n",
    "# Iterate and print tweets\n",
    "for tweet in tweets:\n",
    "    print(tweet.id, tweet.text)"
   ]
  },
  {
   "cell_type": "markdown",
   "metadata": {},
   "source": [
    "#### Extract metadata (i.e. number of retweets etc.)"
   ]
  },
  {
   "cell_type": "code",
   "execution_count": 5,
   "metadata": {},
   "outputs": [
    {
     "name": "stdout",
     "output_type": "stream",
     "text": [
      "Are you a coding fanatic who wants to work with us and learn new technologies? 👨‍💻👩‍💻\n",
      "Well then, we are looking just for you!\n",
      "\n",
      "Register for our SDE Hiring Challenge right now!\n",
      "https://t.co/Zg08gHhT0W  \n",
      "\n",
      "#hiring #challenge #coding #programming https://t.co/1N7gXaH9eA\n"
     ]
    },
    {
     "data": {
      "text/plain": [
       "{'created_at': 'Thu May 28 06:14:48 +0000 2020',\n",
       " 'id': 1265889240300257280,\n",
       " 'id_str': '1265889240300257280',\n",
       " 'full_text': 'Are you a coding fanatic who wants to work with us and learn new technologies? 👨\\u200d💻👩\\u200d💻\\nWell then, we are looking just for you!\\n\\nRegister for our SDE Hiring Challenge right now!\\nhttps://t.co/Zg08gHhT0W  \\n\\n#hiring #challenge #coding #programming https://t.co/1N7gXaH9eA',\n",
       " 'truncated': False,\n",
       " 'display_text_range': [0, 242],\n",
       " 'entities': {'hashtags': [{'text': 'hiring', 'indices': [203, 210]},\n",
       "   {'text': 'challenge', 'indices': [211, 221]},\n",
       "   {'text': 'coding', 'indices': [222, 229]},\n",
       "   {'text': 'programming', 'indices': [230, 242]}],\n",
       "  'symbols': [],\n",
       "  'user_mentions': [],\n",
       "  'urls': [{'url': 'https://t.co/Zg08gHhT0W',\n",
       "    'expanded_url': 'https://practice.geeksforgeeks.org/contest/hiring-challenge-sde',\n",
       "    'display_url': 'practice.geeksforgeeks.org/contest/hiring…',\n",
       "    'indices': [176, 199]}],\n",
       "  'media': [{'id': 1265887151016812546,\n",
       "    'id_str': '1265887151016812546',\n",
       "    'indices': [243, 266],\n",
       "    'media_url': 'http://pbs.twimg.com/media/EZFVqCoWoAILfq5.jpg',\n",
       "    'media_url_https': 'https://pbs.twimg.com/media/EZFVqCoWoAILfq5.jpg',\n",
       "    'url': 'https://t.co/1N7gXaH9eA',\n",
       "    'display_url': 'pic.twitter.com/1N7gXaH9eA',\n",
       "    'expanded_url': 'https://twitter.com/geeksforgeeks/status/1265889240300257280/photo/1',\n",
       "    'type': 'photo',\n",
       "    'sizes': {'medium': {'w': 1200, 'h': 1200, 'resize': 'fit'},\n",
       "     'thumb': {'w': 150, 'h': 150, 'resize': 'crop'},\n",
       "     'large': {'w': 1200, 'h': 1200, 'resize': 'fit'},\n",
       "     'small': {'w': 680, 'h': 680, 'resize': 'fit'}}}]},\n",
       " 'extended_entities': {'media': [{'id': 1265887151016812546,\n",
       "    'id_str': '1265887151016812546',\n",
       "    'indices': [243, 266],\n",
       "    'media_url': 'http://pbs.twimg.com/media/EZFVqCoWoAILfq5.jpg',\n",
       "    'media_url_https': 'https://pbs.twimg.com/media/EZFVqCoWoAILfq5.jpg',\n",
       "    'url': 'https://t.co/1N7gXaH9eA',\n",
       "    'display_url': 'pic.twitter.com/1N7gXaH9eA',\n",
       "    'expanded_url': 'https://twitter.com/geeksforgeeks/status/1265889240300257280/photo/1',\n",
       "    'type': 'photo',\n",
       "    'sizes': {'medium': {'w': 1200, 'h': 1200, 'resize': 'fit'},\n",
       "     'thumb': {'w': 150, 'h': 150, 'resize': 'crop'},\n",
       "     'large': {'w': 1200, 'h': 1200, 'resize': 'fit'},\n",
       "     'small': {'w': 680, 'h': 680, 'resize': 'fit'}}}]},\n",
       " 'source': '<a href=\"https://mobile.twitter.com\" rel=\"nofollow\">Twitter Web App</a>',\n",
       " 'in_reply_to_status_id': None,\n",
       " 'in_reply_to_status_id_str': None,\n",
       " 'in_reply_to_user_id': None,\n",
       " 'in_reply_to_user_id_str': None,\n",
       " 'in_reply_to_screen_name': None,\n",
       " 'user': {'id': 57741058,\n",
       "  'id_str': '57741058',\n",
       "  'name': 'GeeksforGeeks',\n",
       "  'screen_name': 'geeksforgeeks',\n",
       "  'location': 'India',\n",
       "  'description': '👨🏻\\u200d💻🧑🏼\\u200d💻👩🏻\\u200d💻 - 👍🏻 ; 🐝🐞🐛🐌🐜🕷🦗🦟 - ❌',\n",
       "  'url': 'https://t.co/1Dm8vpxhFQ',\n",
       "  'entities': {'url': {'urls': [{'url': 'https://t.co/1Dm8vpxhFQ',\n",
       "      'expanded_url': 'http://geeksforgeeks.org',\n",
       "      'display_url': 'geeksforgeeks.org',\n",
       "      'indices': [0, 23]}]},\n",
       "   'description': {'urls': []}},\n",
       "  'protected': False,\n",
       "  'followers_count': 20783,\n",
       "  'friends_count': 22,\n",
       "  'listed_count': 156,\n",
       "  'created_at': 'Fri Jul 17 20:02:09 +0000 2009',\n",
       "  'favourites_count': 712,\n",
       "  'utc_offset': None,\n",
       "  'time_zone': None,\n",
       "  'geo_enabled': True,\n",
       "  'verified': False,\n",
       "  'statuses_count': 13904,\n",
       "  'lang': None,\n",
       "  'contributors_enabled': False,\n",
       "  'is_translator': False,\n",
       "  'is_translation_enabled': False,\n",
       "  'profile_background_color': 'FFFDF7',\n",
       "  'profile_background_image_url': 'http://abs.twimg.com/images/themes/theme13/bg.gif',\n",
       "  'profile_background_image_url_https': 'https://abs.twimg.com/images/themes/theme13/bg.gif',\n",
       "  'profile_background_tile': False,\n",
       "  'profile_image_url': 'http://pbs.twimg.com/profile_images/1304985167476523008/QNHrwL2q_normal.jpg',\n",
       "  'profile_image_url_https': 'https://pbs.twimg.com/profile_images/1304985167476523008/QNHrwL2q_normal.jpg',\n",
       "  'profile_banner_url': 'https://pbs.twimg.com/profile_banners/57741058/1603173723',\n",
       "  'profile_link_color': '119E39',\n",
       "  'profile_sidebar_border_color': 'D3D2CF',\n",
       "  'profile_sidebar_fill_color': 'E3E2DE',\n",
       "  'profile_text_color': '0D0C0C',\n",
       "  'profile_use_background_image': False,\n",
       "  'has_extended_profile': False,\n",
       "  'default_profile': False,\n",
       "  'default_profile_image': False,\n",
       "  'following': False,\n",
       "  'follow_request_sent': False,\n",
       "  'notifications': False,\n",
       "  'translator_type': 'none'},\n",
       " 'geo': None,\n",
       " 'coordinates': None,\n",
       " 'place': None,\n",
       " 'contributors': None,\n",
       " 'is_quote_status': False,\n",
       " 'retweet_count': 7,\n",
       " 'favorite_count': 19,\n",
       " 'favorited': False,\n",
       " 'retweeted': False,\n",
       " 'possibly_sensitive': False,\n",
       " 'possibly_sensitive_appealable': False,\n",
       " 'lang': 'en'}"
      ]
     },
     "execution_count": 5,
     "metadata": {},
     "output_type": "execute_result"
    }
   ],
   "source": [
    "#Extracting the full text of a retweeted status of a given tweet ID by first checking if the tweet has been retweeted\n",
    "import json\n",
    "id = \"1265889240300257280\"\n",
    "status = api.get_status(id, tweet_mode=\"extended\")\n",
    "try:\n",
    "    print(status.retweeted_status.full_text)\n",
    "except AttributeError: # Not a Retweet\n",
    "    print(status.full_text)\n",
    "\n",
    "#Convert the tweet status into JSON so we can parse the dict keys and gather underlying metadata\n",
    "json_str = json.dumps(status._json)\n",
    "metadata = (json.loads(json_str))\n",
    "metadata\n"
   ]
  },
  {
   "cell_type": "code",
   "execution_count": 6,
   "metadata": {},
   "outputs": [
    {
     "data": {
      "text/plain": [
       "dict_keys(['created_at', 'id', 'id_str', 'full_text', 'truncated', 'display_text_range', 'entities', 'extended_entities', 'source', 'in_reply_to_status_id', 'in_reply_to_status_id_str', 'in_reply_to_user_id', 'in_reply_to_user_id_str', 'in_reply_to_screen_name', 'user', 'geo', 'coordinates', 'place', 'contributors', 'is_quote_status', 'retweet_count', 'favorite_count', 'favorited', 'retweeted', 'possibly_sensitive', 'possibly_sensitive_appealable', 'lang'])"
      ]
     },
     "execution_count": 6,
     "metadata": {},
     "output_type": "execute_result"
    }
   ],
   "source": [
    "#Gather the keys of the tweet's metadata\n",
    "metadata.keys()"
   ]
  },
  {
   "cell_type": "code",
   "execution_count": 7,
   "metadata": {},
   "outputs": [
    {
     "name": "stdout",
     "output_type": "stream",
     "text": [
      "The tweet was created at Thu May 28 06:14:48 +0000 2020 by the user GeeksforGeeks from India \n",
      "This user has 20783 followers and 22 friends\n"
     ]
    }
   ],
   "source": [
    "#Gather the user of the tweet\n",
    "user = metadata['user']['name']\n",
    "#Gather the location of a user's tweet\n",
    "user_location = metadata['user']['location']\n",
    "\n",
    "#Gather the time the tweet was made\n",
    "created_at = metadata['created_at']\n",
    "\n",
    "#Gather details about the user's followers and friends\n",
    "number_of_followers = metadata['user']['followers_count']\n",
    "number_of_friends = metadata['user']['friends_count']\n",
    "\n",
    "print(\"The tweet was created at\",created_at,\"by the user\",user,\"from\",user_location,\"\\nThis user has\",number_of_followers,\"followers and\",number_of_friends,\"friends\")\n",
    "\n"
   ]
  },
  {
   "cell_type": "code",
   "execution_count": 8,
   "metadata": {},
   "outputs": [
    {
     "name": "stdout",
     "output_type": "stream",
     "text": [
      "\n",
      "Based on the Tweet ID, there were: 7 retweets found\n"
     ]
    }
   ],
   "source": [
    "#printing the number of retweets for a tweet \n",
    "retweets_list = api.retweets(id) \n",
    "\n",
    "number_of_retweets = len(retweets_list)\n",
    "print(\"\\nBased on the Tweet ID, there were:\", number_of_retweets, \"retweets found\")"
   ]
  },
  {
   "cell_type": "code",
   "execution_count": 9,
   "metadata": {},
   "outputs": [
    {
     "name": "stdout",
     "output_type": "stream",
     "text": [
      "harshitabambure\n",
      "codedailybot\n",
      "UVahalkar\n",
      "codedailybot\n",
      "ProjectLearn_io\n",
      "codedailybot\n",
      "AaronCuddeback\n"
     ]
    }
   ],
   "source": [
    "# printing the screen names of the retweeters of the given tweet id\n",
    "for retweet in retweets_list: \n",
    "    print(retweet.user.screen_name) \n",
    "    \n"
   ]
  },
  {
   "cell_type": "code",
   "execution_count": 10,
   "metadata": {},
   "outputs": [
    {
     "name": "stdout",
     "output_type": "stream",
     "text": [
      "2020-11-03 04:59:09 United moving flight crews out of city hotels ahead of election to ensure 'safety and suitable rest'… https://t.co/u6fpCHDD1U\n",
      "2020-11-03 04:51:36 United Airlines Moves To Contactless Onboard Payments, Will Resume Buy-On-Board Service https://t.co/ylaz4awGEJ… https://t.co/uVLOmUZO5b\n",
      "2020-11-03 04:04:01 RT @Supermom2020: #UnitedAirlines moves flight crews to airport hotels ahead of #election\n",
      "https://t.co/5o2YwRxOci #Travel #Avgeek\n",
      "2020-11-03 04:01:56 RT @Supermom2020: #UnitedAirlines moves flight crews to airport hotels ahead of #election\n",
      "https://t.co/5o2YwRxOci #Travel #Avgeek\n",
      "2020-11-03 03:51:48 #UnitedAirlines moves flight crews to airport hotels ahead of #election\n",
      "https://t.co/5o2YwRxOci #Travel #Avgeek\n",
      "2020-11-03 00:48:53 In other words and to my prior point, don’t fly #unitedairlines @united. https://t.co/ydh08teADh\n",
      "2020-11-03 00:26:49 My face when I found out I had a whole row to myself...\n",
      "•\n",
      "•\n",
      "•\n",
      "•\n",
      "#travel #flying #shaydo #airport #skies… https://t.co/U5xRbtmrzL\n",
      "2020-11-03 00:10:13 RT @pdxc43: Kudos to the captain of UA5269 for apologizing to each customer for the delay. Didn’t think I’d ever say it, but Amazing Custom…\n",
      "2020-11-02 23:16:56 RT @librarian_ra: The airline Uniting the world as Gene Hackman says in this 1991 @united commercial which showcases the many immigrants th…\n",
      "2020-11-02 23:09:26 RT @librarian_ra: The airline Uniting the world as Gene Hackman says in this 1991 @united commercial which showcases the many immigrants th…\n",
      "2020-11-02 23:00:01 The airline Uniting the world as Gene Hackman says in this 1991 @united commercial which showcases the many immigra… https://t.co/w0aiAGwleu\n",
      "2020-11-02 22:00:12 @united is the worst airline in the history of airlines. DO NOT BOOK WITH THEM!! THEY LIE! When they say that fligh… https://t.co/K6qVR10ODg\n",
      "2020-11-02 21:53:56 Just flew @united from Austin to San Francisco. On the prior day, when I checked in, middle seats were blocked (as… https://t.co/c8WevnhxxS\n",
      "2020-11-02 21:15:50 @united Airlines has the absolute worst, overpriced wifi. So slow i cannot even play music or watch any videos. Bet… https://t.co/cPQyRX5zM8\n",
      "2020-11-02 20:52:21 @DeseretNews @HerbScribner This is on #UnitedAirlines ! 😡 Aren’t they testing each passenger before they board? @united\n",
      "2020-11-02 20:51:26 @DeseretNews @HerbScribner This is on #UnitedAirlines ! 😡 Aren’t they testing each passenger before they board?\n",
      "2020-11-02 19:53:26 Thank you very much #UnitedAirlines and the wonderful crew for our ride home today!!! #WaivedDH #crewlife… https://t.co/Jdlzljwu6u\n",
      "2020-11-02 17:55:03 United Airlines Redesigns Mobile App to be More Accessible for People with Visual Disabilities -… https://t.co/jIEnmXzyZo\n",
      "2020-11-02 15:33:45 RT @MahfoozMonis: Flying between UK and The USA.. We now offer free Covid-19 test.. First ever Program launched by any airlines.\n",
      "#safetrave…\n",
      "2020-11-02 14:16:45 United Redesigns Mobile App For Customers With Visual Disabilities.\n",
      "Click to view more: https://t.co/yIWw66kbSA… https://t.co/SADhxSOocy\n",
      "2020-11-02 14:04:37 @united I called about this twice &amp; I was assured this would not happen. There is zero distancing on this plane fli… https://t.co/k6swvFL7uL\n",
      "2020-11-02 09:04:28 RT @EddieTrunk: Just back from my 1st trip in 8 months. Flew #UnitedAirlines as usual &amp; they had things buttoned up as far as cleanliness,…\n",
      "2020-11-02 08:58:44 Our news on aviation companies!\n",
      "\n",
      "How #UnitedAirlines keeps ‘critters’ out of parked #planes and gets them ready to… https://t.co/2FYEDZCy7C\n",
      "2020-11-02 06:27:48 @united @DeptofDefense @united Are you kidding me! A national pandemic. You cancel &amp; combine flights. Full plane an… https://t.co/hI8ABs40b9\n",
      "2020-11-02 06:27:01 @united Are you kidding me! A national pandemic. You cancel &amp; combine flights. Full plane and ZERO enforced mask po… https://t.co/GGQ1I7UoDS\n",
      "2020-11-02 03:51:10 Not the sound you want to hear 36,000 ft up in the sky... this was the most uncomfortable flight I’ve EVER BEEN ON!… https://t.co/krTNf6Ldbw\n",
      "2020-11-02 03:27:10 Remember Teneriffa?\n",
      "This Summer a United Boeing 787-10 Was Cleared to Land on an Occupied Runway In Paris… https://t.co/NnoeWrfTIS\n",
      "2020-11-02 03:16:34 Who is #flying to #India in #COVID19 period? Well lots really. #airindia #AirFranceKLM #Emirates #QatarAirways… https://t.co/vFicPxQ2Ns\n",
      "2020-11-02 02:06:46 Passenger Died Flight Diverted To #Belize Emergency Landing Today. 71-year-old Maria Vásquez #UnitedAirlines to El… https://t.co/1UF2vvDveE\n",
      "2020-11-02 01:37:57 Just back from my 1st trip in 8 months. Flew #UnitedAirlines as usual &amp; they had things buttoned up as far as clean… https://t.co/w5Hv1MqyfB\n",
      "2020-11-01 23:03:31 RT @K100Konnan: https://t.co/na2vREYP80 #K100 w @Konnan5150 @TheRealDisco @jffeeney3rd exclusive patreon talk about #DDP, #Konnan vs #Unite…\n",
      "2020-11-01 23:03:23 https://t.co/na2vREYP80 #K100 w @Konnan5150 @TheRealDisco @jffeeney3rd exclusive patreon talk about #DDP, #Konnan v… https://t.co/fy7vuj4lxD\n",
      "2020-11-01 22:47:46 Great way to start the day with Nicholas at the Sacramento ticket counter. He always greets us and makes flying easy. UA622 #UnitedAirlines\n",
      "2020-11-01 22:47:23 Service above and beyond from flight attendant Laura on United Flight 435 Chicago to Orlando. Thanks for making fly… https://t.co/l84xJ1vDit\n",
      "2020-11-01 15:00:52 Wow, a terrific flight attendant on United Flight 622, Sacramento to Chicago. Very friendly and helpful. Thanks to Tracy    #UnitedAirlines\n",
      "2020-11-01 14:26:03 On my way to Florida outstanding customer service from Andrea and Sikh at gate for UA622. The people at SMF make fl… https://t.co/goS7Ts6ikX\n",
      "2020-11-01 11:53:41 You boys like #mexico ?!?! #firstclass #unitedairlines #cabosanlucas #birthdaytrip2020 @ Greenville-Spartanburg Int… https://t.co/N52z61S1ib\n",
      "2020-11-01 10:32:10 United Airlines will begin offering free coronavirus tests to passengers on flights from Newark Liberty Internation… https://t.co/FexfDxiCYc\n",
      "2020-10-31 23:13:12 @realDonaldTrump when are you bailing out airlines??? Airline Employees are suffering #UnitedAirlines #stimulus #Unemployment #AmericaFirst\n",
      "2020-10-31 16:58:59 In four months United #unitedAIRLINES has fucked is 50 percent of my flights from Austin to Denver. 50 percent. Fir… https://t.co/8elKnieZ01\n",
      "2020-10-31 16:36:06 RT @patstravelrevu: Slim pickens at #UnitedAirlines #UnitedClub #ChicagoOhare (gate B6) https://t.co/QkuQsLF3kq #Avgeek #aviation #aviation…\n",
      "2020-10-31 15:44:14 Flying between UK and The USA.. We now offer free Covid-19 test.. First ever Program launched by any airlines.… https://t.co/Gx5rTzVL3X\n",
      "2020-10-31 14:10:17 RT @ASAPwings: From 16/11 to 11/12 #UnitedAirlines will be offering free Covid-19 Rapid Testing to every passenger on board select flights…\n",
      "2020-10-31 14:03:34 From 16/11 to 11/12 #UnitedAirlines will be offering free Covid-19 Rapid Testing to every passenger on board select… https://t.co/09mlejgZyF\n",
      "2020-10-31 13:25:38 Yup, about to be wheels up.  Cabo, ready or not here we come....\n",
      "#unitedairlines #cabo #cabosanlucas #takeoff… https://t.co/NRJPhJenYL\n",
      "2020-10-31 12:14:41 Celebrating 30 years at #UnitedAirlines and a Birthday in the same week! Thank you for everything you do for us… https://t.co/UwpwSzQc1M\n",
      "2020-10-31 11:37:07 Is trading gift cards for United miles a good deal? #travel https://t.co/74FmIfXTDw #giftcards #manufacturedspend #unitedairlines\n",
      "2020-10-31 11:16:42 RT @VoteNoMalley: #UnitedAirlines Airbus A319 landing at #BWI after a flight from San Francisco (SFO). #Planespotting https://t.co/53eTBhgB…\n",
      "2020-10-31 11:12:43 #UnitedAirlines Airbus A319 landing at #BWI after a flight from San Francisco (SFO). #Planespotting https://t.co/53eTBhgBPz\n",
      "2020-10-31 11:06:36 #UnitedAirlines will trial free ##COVID19tests pre-flight between #Newark #NewJersey and #LondonHeathrow but arriva… https://t.co/oz5dN6wdAv\n",
      "2020-10-31 05:30:47 #TravelNews - #UnitedAirlines to launch free COVID-19 testing program on flights from #Newark to #London starting o… https://t.co/HVBVnyZYTU\n",
      "2020-10-31 04:21:24 @United, you need a little oxygen for that altitude sickness you’re suffering from... $2158 for a December national… https://t.co/8w1vse9jf7\n",
      "2020-10-31 04:20:25 #UnitedAirlines:   Anchor Arrested After Close Up' the Internet\n",
      "2020-10-31 03:57:25 United Airlines today announced the world’s first free transatlantic COVID-19 testing pilot program for customers.… https://t.co/qoCephDzaq\n",
      "2020-10-31 03:03:46 #UnitedAirlines is NOT enforcing their mask policy whatsoever. As someone who’s immune compromised, this shit has m… https://t.co/S0ymH4BqmO\n",
      "2020-10-31 02:20:46 @united somehow my seat got changed for my flight on Sunday and now I’m a middle seat 😿 would be amazing if… https://t.co/xZoY5St1XS\n",
      "2020-10-31 02:20:29 @united how does this even happen? Really curious to know why you don't have a flight crew plan for a scheduled int… https://t.co/J9pSIBxpb6\n",
      "2020-10-30 22:49:15 United 737-800 from Denver!\n",
      "#united #unitedairlines #boeing #boeing737 https://t.co/Arpi5BvbYs\n",
      "2020-10-30 22:37:41 United Airlines Will Test Passengers on Flights to London for Coronavirus - The New York Times… https://t.co/pKK81KOV15\n",
      "2020-10-30 19:15:21 The best view ✈\n",
      "Like this if you agree!\n",
      ".\n",
      ".\n",
      ". \n",
      "#AmericanAirlines #delta #Southwest #Unitedairlines… https://t.co/LiRW7qnj5e\n",
      "2020-10-30 19:06:03 #UnitedAirlines understand this https://t.co/fv8tpLjvc8\n",
      "2020-10-30 18:54:58 Watch: Gerald Celente\n",
      "MORE LOCKDOWNS, ECONOMIC WINTER #UnitedAirlines #Economy #FirstClass #OilPrices #NoMasks… https://t.co/xU3TXWpNPg\n",
      "2020-10-30 18:49:11 RT @BSoriano_EBC: From the EBC Business Desk 10/29/20: US GDP 3Q Recovery, United Begins Pre-Flight COVID Testing, Tiffany/LVMH Agree on De…\n",
      "2020-10-30 18:22:31 Would you be inclined to flying if airlines offered testing before your flight? Read: https://t.co/PZ0EdgnOco -… https://t.co/XoVgK9hYj7\n",
      "2020-10-30 17:19:07 @united To Offer Free Coronavirus Testing On #LHR-#EWR Route\n",
      "#unitedairlines #covid-19test\n",
      "https://t.co/anDqxszSbb https://t.co/EUoFboXaTh\n",
      "2020-10-30 16:45:05 @UnltedAirlines Launches World’s First Free Transatlantic COVID-19 Testing Pilot https://t.co/CJAQxA8IE4… https://t.co/y3B9yODYxB\n",
      "2020-10-30 16:28:08 From the EBC Business Desk 10/29/20: US GDP 3Q Recovery, United Begins Pre-Flight COVID Testing, Tiffany/LVMH Agree… https://t.co/inBWqyRXWT\n",
      "2020-10-30 16:05:19 United takes to our massive 405 wallscape to give you some peace of mind for you next trip. With an air filtration… https://t.co/CxOFL3dMLO\n",
      "2020-10-30 14:06:27 Good Morning America’s ‘segment on ‘Safe Travels’ show risks of air travel while masked; the Department of Defense… https://t.co/FcQCPAACJK\n",
      "2020-10-30 13:53:11 United Airlines tests COVID-19 'health pass' app to bring back global travel https://t.co/8Cv7SY7ipq #healthpass #unitedairlines #telehealth\n",
      "2020-10-30 11:45:39 United Airlines to trial airport Covid testing.\n",
      "The airline is starting Covid-19 tests on some flights from Newark… https://t.co/gcEfcvg5SG\n",
      "2020-10-30 11:17:24 #Interesting: How #UnitedAirlines gets its parked planes ready to fly again https://t.co/b3k1e5UmIY\n",
      "2020-10-30 10:57:55 RT @ChrissieBailey2: #UnitedStates #unitedairlines @USGovernment @UKGovernmentEng BREAKING: Single young woman, travelling alone, all paper…\n",
      "2020-10-30 10:53:04 #UnitedStates #unitedairlines @USGovernment @UKGovernmentEng BREAKING: Single young woman, travelling alone, all pa… https://t.co/BTAZy04rzI\n",
      "2020-10-30 10:10:25 RT @dolorphl: @AusterityAirli1 @iskonglasalista @molavefinds @GuyTolentino @javalavamanila @tambok0599 @bernardbsimon1 @TigerbasRichard @Du…\n",
      "2020-10-30 10:05:24 United Airlines to launch Covid-19 testing trial #United #UnitedAirlines  https://t.co/ju7T9qmA0Y\n",
      "2020-10-30 08:17:13 @AusterityAirli1 @iskonglasalista @molavefinds @GuyTolentino @javalavamanila @tambok0599 @bernardbsimon1… https://t.co/rynSIJTe7E\n",
      "2020-10-30 07:27:01 United Airlines temporarily adjusting inflight lavatory policy https://t.co/UN3hQ0EPaL #readlater #feedly… https://t.co/wv8qZm5aw7\n",
      "2020-10-30 07:24:25 United rolling out free Covid-19 testing https://t.co/c3cFDWCagW #readlater #feedly #weareunited #unitedtogether… https://t.co/EvCdwn060K\n",
      "2020-10-30 05:23:33 #UnitedAirlines #Economy and #EconomyPlus Snack &amp; Beverage #ORD to #SAN https://t.co/QkuQsLWEbY #avgeek #aviation… https://t.co/yv1k0uLuAL\n",
      "2020-10-30 03:00:00 United Airlines (UAL) plans to resume more than 40 routes in November. Read more: https://t.co/icl07eoShF\n",
      "\n",
      "#United… https://t.co/Ofk0DJCzJm\n",
      "2020-10-30 00:32:25 Walking onto my United Airlines flight &amp; the flight attendant (white woman) greeted me with a smile. Following that… https://t.co/r0Twx1fDwy\n",
      "2020-10-30 00:18:12 Slim pickens at #UnitedAirlines #UnitedClub #ChicagoOhare (gate B6) https://t.co/QkuQsLF3kq #Avgeek #aviation… https://t.co/q4KMJ1Fw94\n",
      "2020-10-29 23:45:42 #UnitedAirlines to offer #Free #CovidTesting for #passangers\n",
      "https://t.co/kPPYTt87PD\n",
      "2020-10-29 22:35:46 United Airlines is to run a four-week-long pilot programme offering passengers on its New York Newark-London Heathr… https://t.co/90R4mHGa67\n",
      "2020-10-29 21:40:20 Would you start flying again in the near future? #UnitedAirlines #Travel #Southwest https://t.co/qogifGCzJB\n",
      "2020-10-29 20:31:31 RT @SContrails: Dodgers returned to LA. Arrived at LAX with United airlines Boeing777✈️\n",
      "\n",
      "https://t.co/67ZMt7A6gI\n",
      "\n",
      "#Dodgers #LATogether #LAD…\n",
      "2020-10-29 20:25:06 Dodgers returned to LA. Arrived at LAX with United airlines Boeing777✈️\n",
      "\n",
      "https://t.co/67ZMt7A6gI\n",
      "\n",
      "#Dodgers… https://t.co/SD75StAOMv\n",
      "2020-10-29 19:49:27 #UnitedAirlines will trial free, 30-minute #COVID19 tests for passengers flying from Newark to ... https://t.co/SufSbvR7eL via @MailOnline\n",
      "2020-10-29 18:59:40 More than 100,000 people infected in #Japan #COVID19Japan\n",
      "\n",
      "#UnitedAirlines to offer free rapid COVID-19 tests on fl… https://t.co/6gyNNcqWhf\n",
      "2020-10-29 18:20:23 United ✈️ to Launch 😷 COVID-19 Test Program on Flights From Newark to London https://t.co/PnHNoXbyq6… https://t.co/VEVRNdnT6e\n",
      "2020-10-29 17:16:50 RT @spotterguidenet: @united in Rising Blue colors climbing towards Londons sky.\n",
      "#unitedairlines #heathrowairport #boeing #747 #queenofthes…\n",
      "2020-10-29 17:11:01 United Airlines #UnitedAirlines airplanes #airplanes London Heathrow #LondonHeathrow flights #fligh United Airlines… https://t.co/IG3eS4tYTQ\n",
      "2020-10-29 17:02:54 @united in Rising Blue colors climbing towards Londons sky.\n",
      "#unitedairlines #heathrowairport #boeing #747… https://t.co/pRq8rEG7lc\n",
      "2020-10-29 17:00:01 @united hopes the move will help get more people traveling again. #covidtests #travel #airtravel #unitedairlines https://t.co/cR8Azj4OTo\n",
      "2020-10-29 16:58:43 #UnitedAirlines to Start Rapid #COVID19 Tests for Passengers at #Newark Airport |\n",
      "https://t.co/RQu0pa3upN\n",
      "#Travel #Paxex #Avgeek\n",
      "2020-10-29 16:57:40 RT @jfkjetsofficial: The Force is With this Jet! The Star Wars Livery by @united always looks amazing! Do you prefer the blue or red side?…\n",
      "2020-10-29 16:01:31 RT @BrunoLauper: United Airlines B787 B777\n",
      "Zürich Airport Oktober 2020\n",
      "•\n",
      "Full Video OUT NOW\n",
      "on YouTube by crosswind... \n",
      "•\n",
      "#pixaloop #united…\n",
      "2020-10-29 16:00:46 United Airlines B787 B777\n",
      "Zürich Airport Oktober 2020\n",
      "•\n",
      "Full Video OUT NOW\n",
      "on YouTube by crosswind... \n",
      "•\n",
      "#pixaloop… https://t.co/o9flb9a8VH\n",
      "2020-10-29 15:48:47 @united Horrible WiFi service. We are all here waiting and waiting all the time. #fail #nowifi #unitedairlines https://t.co/SRAnZxuOTg\n",
      "2020-10-29 15:22:40 #UnitedAirlines Tries Out Mandatory COVID-19 Tests On #Newark To #London Flights https://t.co/tSTtkPCOYn\n",
      "2020-10-29 15:20:30 Thank you @united for sharing my photo to launch such a great initiative to help us get travelling again!… https://t.co/2be80zmIkx\n",
      "2020-10-29 14:31:05 #UnitedAirlines will be piloting a program to offer free #COVID-19 rapid tests before takeoff for #Newark travelers\n",
      " https://t.co/oUyNCVkaC6\n",
      "2020-10-29 13:27:53 “Great to see people in the seats again.” #UnitedAirlines FA. Couldn’t agree more!\n",
      "2020-10-29 13:20:46 #COVID19 | After a successful trial in Hawaii, a #UnitedAirlines program to test travelers for the #coronavirus and… https://t.co/K031W9jMo5\n",
      "2020-10-29 13:12:10 RT @vijayguneta: This seems to be an out-of-box-thinking to boost travels and economy!!\n",
      "\n",
      "#travelindustry #economyrecovery #tourismindustry…\n",
      "2020-10-29 13:11:29 This seems to be an out-of-box-thinking to boost travels and economy!!\n",
      "\n",
      "#travelindustry #economyrecovery… https://t.co/QgvojPe3cy\n",
      "2020-10-29 13:05:03 #AviationNews #UnitedAirlines United Airlines Launches Free Transatlantic COVID-19 Testing https://t.co/aSYkC4ZlTn https://t.co/lRAMdqVvqu\n",
      "2020-10-29 12:23:49 RT @Supermom2020: #UnitedAirlines Updates Its #Lavatory #Policy | \n",
      "https://t.co/56OIB0KhAY #Travel #Avgeek\n",
      "2020-10-29 12:22:11 #UnitedAirlines Updates Its #Lavatory #Policy | \n",
      "https://t.co/56OIB0KhAY #Travel #Avgeek\n",
      "2020-10-29 11:31:41 RT @BrunoLauper: United Airlines B787 B777\n",
      "Zürich Airport Oktober 2020\n",
      "•\n",
      "Full Video OUT NOW\n",
      "on YouTube by crosswind... \n",
      "•\n",
      "#unitedairlines @…\n",
      "2020-10-29 11:20:36 $UAL Unveils World's First Free Transatlantic COVID-19 Testing Pilot        #UnitedAirlines     #Coronavirus… https://t.co/30OMiCjeyc\n",
      "2020-10-29 11:17:32 United Airlines B787 B777\n",
      "Zürich Airport Oktober 2020\n",
      "•\n",
      "Full Video OUT NOW\n",
      "on YouTube by crosswind... \n",
      "•… https://t.co/pRPj8Jme7B\n",
      "2020-10-29 08:08:37 RT @jfkjetsofficial: The Force is With this Jet! The Star Wars Livery by @united always looks amazing! Do you prefer the blue or red side?…\n",
      "2020-10-29 07:14:15 RT @jfkjetsofficial: The Force is With this Jet! The Star Wars Livery by @united always looks amazing! Do you prefer the blue or red side?…\n",
      "2020-10-29 01:14:51 Photo taken by me, bob's aviation, this @boeing 737-824 departing Boston, headed to San Francisco, BOS - SFO, this… https://t.co/sxoJk2l7ti\n",
      "2020-10-29 00:50:38 @garlandrg @UnitedAirlines is the worst airline ever.I used to travel Virgin America, but that is gone now. I hate… https://t.co/d1PBTE8JAm\n",
      "2020-10-29 00:31:25 I'm not flying right now, but @SouthwestAir adding new routes out of #COS is a game changer. I would be more than d… https://t.co/ACLaNdrWjG\n",
      "2020-10-28 20:06:51 United Airlines - You sell all the seats on the plan, cram people together, some people have been tested while othe… https://t.co/RGUrEjvR69\n",
      "2020-10-28 19:32:34 RT @AlePepino: @Reuters theyre just hankering for another government bailout let them go bankrupt #UnitedAirlines #DeltaAirlines\n",
      "2020-10-28 18:49:16 @united @DeptofDefense My confirmed ✈ reservation, made a month ago, was just changed by #unitedairlines w/o my con… https://t.co/AtXaqvDvZh\n",
      "2020-10-28 18:48:39 RT @markthoms: Test Driving The Latest Version Of The United App https://t.co/a0NPc31FLb #travel #feedly #unitedtogether #unitedairlines #w…\n",
      "2020-10-28 18:47:00 @united My confirmed ✈ reservation, made a month ago, was just changed by #unitedairlines w/o my consent for your f… https://t.co/S9FhXsKOls\n",
      "2020-10-28 18:37:45 Test Driving The Latest Version Of The United App https://t.co/a0NPc31FLb #travel #feedly #unitedtogether… https://t.co/ChqxV9fm4s\n",
      "2020-10-28 17:39:10 RT @TravelAgentMall: TravelAgentMall brings you the best airfare deals on United Airlines.\n",
      "Book now: https://t.co/6W6hhhozdO\n",
      "#exclusive #de…\n",
      "2020-10-28 17:28:30 TravelAgentMall brings you the best airfare deals on United Airlines.\n",
      "Book now: https://t.co/6W6hhhozdO\n",
      "#exclusive… https://t.co/nH2kmqxfYr\n",
      "2020-10-28 17:16:48 RT @jfkjetsofficial: The Force is With this Jet! The Star Wars Livery by @united always looks amazing! Do you prefer the blue or red side?…\n",
      "2020-10-28 17:15:00 RT @jfkjetsofficial: The Force is With this Jet! The Star Wars Livery by @united always looks amazing! Do you prefer the blue or red side?…\n",
      "2020-10-28 17:14:08 RT @jfkjetsofficial: The Force is With this Jet! The Star Wars Livery by @united always looks amazing! Do you prefer the blue or red side?…\n",
      "2020-10-28 17:11:21 Great company, great people, great actions ! We are United ! #BeingUnited #unitedairlines https://t.co/oWlW0qhAqT https://t.co/X7C0jho24d\n",
      "2020-10-28 17:02:58 Alumni virtual event happening on November 13th at 12pm! We’re looking for alumni to join us to learn about career… https://t.co/KuViNdZzOQ\n",
      "2020-10-28 16:47:32 The Force is With this Jet! The Star Wars Livery by @united always looks amazing! Do you prefer the blue or red sid… https://t.co/G0znDDEoOr\n",
      "2020-10-28 14:55:53 For all the airline geeks out there - make Zoom and MS Teams backgrounds a little more interesting! #avgeek #vote… https://t.co/5mwYdP8bDZ\n",
      "2020-10-28 12:52:02 Mitchell Place DEN ... a better flight-crew only crashpad. Now accepting applications for January 2021.… https://t.co/XX13MRNdWc\n",
      "2020-10-27 21:45:39 United Airlines Ripoff\n",
      "Stop taxpayer bailouts for United. They cancelled my flights due to COVID and refuse to refu… https://t.co/YAMAK7d4Oc\n",
      "2020-10-27 21:27:34 RT @AlePepino: @Reuters theyre just hankering for another government bailout let them go bankrupt #UnitedAirlines #DeltaAirlines\n",
      "2020-10-27 21:12:05 RT @laptoptravel: This New Mobile App #CommonPass May Make Flying Possible Again – In Trials Now! Is This the Key to Restarting Internation…\n",
      "2020-10-27 21:10:00 This New Mobile App #CommonPass May Make Flying Possible Again – In Trials Now! Is This the Key to Restarting Inter… https://t.co/YCmsHAzH2M\n",
      "2020-10-27 20:22:09 RT @AlePepino: @Reuters theyre just hankering for another government bailout let them go bankrupt #UnitedAirlines #DeltaAirlines\n",
      "2020-10-27 20:19:25 @Reuters theyre just hankering for another government bailout let them go bankrupt #UnitedAirlines #DeltaAirlines\n",
      "2020-10-27 20:05:35 @United always stressing free WiFi on planes but I have yet to experience it.  👀 3rd time traveling  and not once i… https://t.co/1e2HTua52U\n",
      "2020-10-27 19:57:50 #unitedAIRLINES flight attendant Carol on f3810 from ORD to AZO could benefit from some professional &amp; courtesy tra… https://t.co/kWipvXbo7s\n",
      "2020-10-27 17:40:19 I need a good #Discrimination #lawyer  #unitedairlines @Roberta59153762 @lawyer @UnitedAirlines_\n",
      "2020-10-27 17:02:41 Delta, United and Alaska Airlines have banned more than 900 passengers for not wearing masks… https://t.co/BbxxPBn1HO\n",
      "2020-10-27 15:10:26 @AmericanAir Oh no you’ve been great! It was #unitedairlines that’s been a nightmare!\n",
      "2020-10-27 13:39:52 Whoever said you must elevate your company in order to succeed has never flown united or spirit. #aviation… https://t.co/crWlr3iLFE\n",
      "2020-10-27 13:13:30 Looking to the future! Later today United's VP of International Network and Alliances will talk with The Points Guy… https://t.co/Sdi7kcHdOt\n",
      "2020-10-27 05:03:55 Air Travel during Pandemic2020.\n",
      "\n",
      "https://t.co/FPbQi1TgYk\n",
      "\n",
      "#aviation #travel #UnitedAirlines #pandemic\n",
      "2020-10-27 03:24:36 #unitedAIRLINES  where's the bottle service @ this is why I fly with @SpiritAirlines  i hate it here\n",
      "2020-10-27 00:56:10 RT @jfkjetsofficial: My Photo of the Day: A @RepublicAirways E175 flying for @united looking amazing as she banks out of EWR. I took this f…\n",
      "2020-10-27 00:50:22 Hey UAL, do I get miles for taxing around DEN,  GATE C38 to B15, #unitedairlines\n",
      "2020-10-26 23:25:58 Haven't flown @UnltedAirlines in a while and will not be making that mistake ever again as long as I live. Bye #unitedAIRLINES\n",
      "2020-10-26 23:22:50 Umm #UnitedAirlines not putting ppl in those middles seats huh?\n",
      "2020-10-26 21:48:00 Just boarded @united for my flight to LA then Vegas. Used my sanitizing wipes that they handed out while boarding t… https://t.co/EfBBYGH6a1\n",
      "2020-10-26 20:16:47 Join us November 19th at 1:30 pm CST for a free Webinar. Learn how @accentedge helped @united experience the cultur… https://t.co/OJKQQkF4ju\n",
      "2020-10-26 20:02:04 During the early days of the pandemic there was lots of talk of a health pass. It’s interesting that @united is try… https://t.co/Wk069INKeg\n",
      "2020-10-26 19:15:45 How’d we do? Leave us a review with your experience!\n",
      "\n",
      ".\n",
      ".\n",
      ". \n",
      "#A318 #A319 #A320 #A321 #A330 #737 #767 #757 #777 #787… https://t.co/KulsS4xnby\n",
      "2020-10-26 19:15:24 United Airlines is kicking off a new Caribbean expansion headlined by the launch of new service to destinations inc… https://t.co/sYuuREGpqo\n",
      "2020-10-26 18:54:52 Another Gloomy, gray reflection shot. #unitedairlines #777 #gloomy #gray #reflection @ Chicago O'Hare International… https://t.co/hhaRttr22v\n",
      "2020-10-26 18:42:22 Hey #UnitedAirlines I am at LAX at gate 71B waiting for flight 1520 to Houston. There are at least four people at t… https://t.co/OXVSRev4FB\n",
      "2020-10-26 18:13:16 Two days later and my luggage is finally here from NY 😂 #UnitedAirlines\n",
      "2020-10-26 17:25:58 @united Me definitely love @United. Miss being able to fly you guys. BEST STAFF EVER. #unitedAIRLINES\n",
      "2020-10-26 15:11:55 RT @laptoptravel: This New Mobile App #CommonPass May Make Flying Possible Again – In Trials Now! Is This the Key to Restarting Internation…\n",
      "2020-10-26 15:07:00 This New Mobile App #CommonPass May Make Flying Possible Again – In Trials Now! Is This the Key to Restarting Inter… https://t.co/o5A6bL9PtT\n",
      "2020-10-26 14:28:03 @united just ruined my trip AND IM IN #FIRSTCLASS by not letting my beloved kitty fly with me on our vacation and I… https://t.co/pcX11uA0QE\n",
      "2020-10-26 14:26:47 Flash goes the beacon light - part two. #unitedairlines #beacon #dreamliner #dreamliner787 #787 @ Chicago O'Hare In… https://t.co/STMIOA408x\n",
      "2020-10-26 13:47:07 RT @RotateSpotter: All the sunlight in the world bouncing off this @united 737-700 as she heads home from @ATLairport @BoeingAirplanes @air…\n",
      "2020-10-26 13:46:39 All the sunlight in the world bouncing off this @united 737-700 as she heads home from @ATLairport @BoeingAirplanes… https://t.co/v85g3iXXtd\n",
      "2020-10-26 00:16:50 RT @thejamesgreer: (See Photo Above)\n",
      "#cltairport #aviationlovers #aviationphotos #instaplane #planepics #planelovers #planespotting #planes…\n",
      "2020-10-26 00:15:18 Mutha fuckas be pressed for the window seat on a plain. Like damn bitch he’s a child #flyingunited #unitedAIRLINES\n",
      "2020-10-26 00:11:58 RT @laptoptravel: This New Mobile App #CommonPass May Make Flying Possible Again – In Trials Now! Is This the Key to Restarting Internation…\n",
      "2020-10-26 00:10:39 (See Photo Above)\n",
      "#cltairport #aviationlovers #aviationphotos #instaplane #planepics #planelovers #planespotting… https://t.co/0HTGQizlOK\n",
      "2020-10-25 23:55:00 This New Mobile App #CommonPass May Make Flying Possible Again – In Trials Now! Is This the Key to Restarting Inter… https://t.co/QwyO78wG5W\n",
      "2020-10-25 22:02:06 RT @librarian_ra: Autumnal Timetables from the past 1972-1997\n",
      ".\n",
      ".\n",
      "#ephemera  #airplane #avgeek #avgeeks #aviation #travel @AusterityAirli1…\n",
      "2020-10-25 22:00:00 Autumnal Timetables from the past 1972-1997\n",
      ".\n",
      ".\n",
      "#ephemera  #airplane #avgeek #avgeeks #aviation #travel… https://t.co/Xsho1MXU2Z\n",
      "2020-10-25 19:07:52 @Delta and @united the competition is real 🤣😂 #delta #unitedAIRLINES #FunniestTweets #Competition https://t.co/kE4YPU6002\n",
      "2020-10-25 18:00:34 Wow wow ... #UA1612  if flying with full capacity occupying all seats #cdc #FAA #unitedAIRLINES #FoxNews #cnbc… https://t.co/ItA66uuz5I\n",
      "2020-10-25 17:52:17 I'd heard about this video mocking United Airlines' baggage handling but never seen it. Apparently United has a his… https://t.co/lHgJQoL3Tb\n",
      "2020-10-25 17:36:27 RT @happiness9163: This is why the USA can’t get this Covid virus under control. It’s because of idiots like this fool. #COVID19 #UnitedAir…\n",
      "2020-10-25 17:26:06 RT @happiness9163: This is why the USA can’t get this Covid virus under control. It’s because of idiots like this fool. #COVID19 #UnitedAir…\n",
      "2020-10-25 17:24:27 This is why the USA can’t get this Covid virus under control. It’s because of idiots like this fool. #COVID19… https://t.co/78URhmf3SV\n",
      "2020-10-25 15:45:27 United Airlines, McDonnell Douglas DC-8 #vintage #vintageairliners #airliners #united #unitedairlines… https://t.co/gPtLrtSIu4\n",
      "2020-10-25 13:53:37 Snow as I make my way home... #homewardbound #ontheroad #snow #unitedairlines @ Denver International Airport https://t.co/AKmBa9QL8Z\n",
      "2020-10-25 11:59:49 #unitedAIRLINES is awful\n",
      "2020-10-25 10:58:35 #unitedAIRLINES it's 6 o'clock where are your people\n",
      "2020-10-25 10:54:25 #unitedAIRLINES hates its customers\n",
      "2020-10-25 10:52:35 #unitedAIRLINES is dishonest\n",
      "2020-10-25 10:50:19 #unitedAIRLINES i bought flights that worked for my schedule. Why are you changing them\n",
      "2020-10-25 10:48:45 #unitedairlines is horrible. Fly southwest or anyone else\n",
      "2020-10-25 10:47:14 #unitedAIRLINES is horrible\n",
      "2020-10-25 10:36:51 #unitedAIRLINES then put you in middle seats\n",
      "2020-10-25 10:36:50 #unitedAIRLINES then sit you away from your spouse\n",
      "2020-10-25 10:36:50 #unitedAIRLINES  they change your flight with no notice\n",
      "2020-10-25 10:34:17 #unitedAIRLINES sucks\n",
      "2020-10-25 10:08:16 United Airlines Boeing 777-200(ER) N784UA Landing at London Heathrow Airport, United Kingdom 🇬🇧 (LHR/EGLL) Runway 2… https://t.co/irX1VnNrvM\n",
      "2020-10-25 04:15:01 Staying healthy and safe is how we keep everyone healthy and safe. We need each other to have self love in order to… https://t.co/jlXgpxCFfy\n",
      "2020-10-25 02:53:24 #breastcancerawarenessmonth 💗 #DENUACS got to show off how they #stompoutbreastcancer👡💖 #PinkShoes #uniqueness 👡👢👟💗… https://t.co/03MmiMtqvP\n",
      "2020-10-25 02:01:06 How is it you cancel my flight tomorrow #UnitedAirlines  but won’t answer a phone call or now a text.\n",
      "2020-10-25 01:36:24 Nothing like waiting on hold with #UnitedAirlines for an hour with no reply. For a flight they canceled. When Amin getting home\n",
      "2020-10-25 01:11:53 RT @laptoptravel: This New Mobile App #CommonPass May Make Flying Possible Again – In Trials Now! Is This the Key to Restarting Internation…\n",
      "2020-10-25 00:53:54 This New Mobile App #CommonPass May Make Flying Possible Again – In Trials Now! Is This the Key to Restarting Inter… https://t.co/RjKBsd20l6\n",
      "2020-10-25 00:23:56 #unitedairlines blows my fuckinggg mind\n",
      "2020-10-24 21:35:07 United Rise of Skywalker livery off to another mission. 10/24/20 at ORD. #unitedairlines #riseofskywalker… https://t.co/Afnt7vJyHQ\n"
     ]
    }
   ],
   "source": [
    "csvFile = open('ua.csv', 'a')\n",
    "#Use csv Writer\n",
    "csvWriter = csv.writer(csvFile)\n",
    "\n",
    "for tweet in tweepy.Cursor(api.search,q=\"#unitedAIRLINES\",count=100,\n",
    "                           lang=\"en\",\n",
    "                           since=\"2017-04-03\").items():\n",
    "    print (tweet.created_at, tweet.text)\n",
    "    csvWriter.writerow([tweet.created_at, tweet.text.encode('utf-8')])"
   ]
  },
  {
   "cell_type": "markdown",
   "metadata": {},
   "source": [
    "### (3) Using the Twitter API to download tweets and save those as a csv file"
   ]
  },
  {
   "cell_type": "markdown",
   "metadata": {},
   "source": [
    "Here, we search for the last 100 tweets made using the hashtag \"#Trump\" and save these tweets to a csv along with metadata of those tweets: username/screen name, id of the tweet, whether it was retweeted, language of the tweet, number of followers of the user, whether the user is verified, location the tweet was made in, the tweet, and when it was created. Our search results are then saved to a csv file."
   ]
  },
  {
   "cell_type": "code",
   "execution_count": 11,
   "metadata": {},
   "outputs": [
    {
     "name": "stdout",
     "output_type": "stream",
     "text": [
      "tweets have been saved to the following csv file:hashtag_tweets.csv\n"
     ]
    }
   ],
   "source": [
    "#method to get a user's last tweets\n",
    "def get_tweets(hashtag):\n",
    "\n",
    " \n",
    "\n",
    "    #set count to however many tweets you want\n",
    "    number_of_tweets = 100\n",
    "\n",
    "    #get tweets\n",
    "    tweets_for_csv = []\n",
    "    for tweet in tweepy.Cursor(api.search, q = hashtag).items(number_of_tweets):\n",
    "        #create array of tweet information: username, tweet id, date/time, text\n",
    "        tweets_for_csv.append([tweet.user.screen_name,tweet.retweeted,tweet.user.statuses_count,tweet.user.followers_count,tweet.user.verified,tweet.user.location.encode(\"utf-8\"), tweet.created_at, tweet.text.encode(\"utf-8\")])\n",
    "\n",
    "    #write to a new csv file from the array of tweets\n",
    "    outfile = \"hashtag_tweets.csv\"\n",
    "    print (\"tweets have been saved to the following csv file:\" + outfile)\n",
    "    with open(outfile, 'w+') as file:\n",
    "        writer = csv.writer(file, delimiter=',')\n",
    "        writer.writerows(tweets_for_csv)\n",
    "\n",
    "if __name__ == '__main__':\n",
    "    get_tweets(\"#Trump\")"
   ]
  },
  {
   "cell_type": "markdown",
   "metadata": {},
   "source": [
    "### (4) Basic feature extraction and basic text preprocessing on tweets from csv file"
   ]
  },
  {
   "cell_type": "code",
   "execution_count": 12,
   "metadata": {},
   "outputs": [
    {
     "name": "stderr",
     "output_type": "stream",
     "text": [
      "[nltk_data] Downloading package stopwords to\n",
      "[nltk_data]     C:\\Users\\dijia\\AppData\\Roaming\\nltk_data...\n",
      "[nltk_data]   Package stopwords is already up-to-date!\n"
     ]
    },
    {
     "data": {
      "text/plain": [
       "True"
      ]
     },
     "execution_count": 12,
     "metadata": {},
     "output_type": "execute_result"
    }
   ],
   "source": [
    "import numpy as np\n",
    "import pandas as pd\n",
    "import matplotlib.pyplot as plt\n",
    "import seaborn as sns\n",
    "\n",
    "import re\n",
    "import nltk\n",
    "import matplotlib.pyplot as plt\n",
    "pd.options.display.max_colwidth = 200\n",
    "%matplotlib inline\n",
    "nltk.download('stopwords')"
   ]
  },
  {
   "cell_type": "code",
   "execution_count": 148,
   "metadata": {},
   "outputs": [
    {
     "data": {
      "text/html": [
       "<div>\n",
       "<style scoped>\n",
       "    .dataframe tbody tr th:only-of-type {\n",
       "        vertical-align: middle;\n",
       "    }\n",
       "\n",
       "    .dataframe tbody tr th {\n",
       "        vertical-align: top;\n",
       "    }\n",
       "\n",
       "    .dataframe thead th {\n",
       "        text-align: right;\n",
       "    }\n",
       "</style>\n",
       "<table border=\"1\" class=\"dataframe\">\n",
       "  <thead>\n",
       "    <tr style=\"text-align: right;\">\n",
       "      <th></th>\n",
       "      <th>user_name</th>\n",
       "      <th>retweeted_or_not</th>\n",
       "      <th>number_Tweets_issued</th>\n",
       "      <th>num_followers</th>\n",
       "      <th>verified_or_not</th>\n",
       "      <th>location_the_tweet</th>\n",
       "      <th>when_the_tweet_created</th>\n",
       "      <th>text</th>\n",
       "    </tr>\n",
       "  </thead>\n",
       "  <tbody>\n",
       "    <tr>\n",
       "      <th>5</th>\n",
       "      <td>thomasmountain5</td>\n",
       "      <td>False</td>\n",
       "      <td>3649</td>\n",
       "      <td>576</td>\n",
       "      <td>False</td>\n",
       "      <td>b''</td>\n",
       "      <td>2020-11-03 08:17:05</td>\n",
       "      <td>b'@murray_nyc @realDonaldTrump A vote for #Trump is a vote for bigotry, for #racism, and for intolerance.'</td>\n",
       "    </tr>\n",
       "    <tr>\n",
       "      <th>6</th>\n",
       "      <td>Schokobub2</td>\n",
       "      <td>False</td>\n",
       "      <td>5027</td>\n",
       "      <td>211</td>\n",
       "      <td>False</td>\n",
       "      <td>b''</td>\n",
       "      <td>2020-11-03 08:17:04</td>\n",
       "      <td>b'RT @Dakotadamus: $10,000 cash give giveaway: If either Presidential Candidate gets 366 or more electoral votes (Obama had 365 in 2008) in #\\xe2\\x80\\xa6'</td>\n",
       "    </tr>\n",
       "    <tr>\n",
       "      <th>7</th>\n",
       "      <td>cri_marcucci</td>\n",
       "      <td>False</td>\n",
       "      <td>18083</td>\n",
       "      <td>280</td>\n",
       "      <td>False</td>\n",
       "      <td>b'Roma, Lazio'</td>\n",
       "      <td>2020-11-03 08:17:02</td>\n",
       "      <td>b'RT @_Nico_Piro_: Una #NewYork mai vista cos\\xc3\\xac: transenne, tavole di legno sulle vetrine dei negozi (non solo sulla quinta, non solo negozi d\\xe2\\x80\\xa6'</td>\n",
       "    </tr>\n",
       "    <tr>\n",
       "      <th>8</th>\n",
       "      <td>elsolespanol</td>\n",
       "      <td>False</td>\n",
       "      <td>105</td>\n",
       "      <td>51</td>\n",
       "      <td>False</td>\n",
       "      <td>b'Valencia, Espa\\xc3\\xb1a \\xf0\\x9f\\x87\\xaa\\xf0\\x9f\\x87\\xb8'</td>\n",
       "      <td>2020-11-03 08:17:02</td>\n",
       "      <td>b'When Biden wins tonight, what is that fucking maniac Trump going to do?\\n\\n#Election2020 #Trump #Biden\\xe2\\x80\\xa6 https://t.co/rgyDcuY9I6'</td>\n",
       "    </tr>\n",
       "  </tbody>\n",
       "</table>\n",
       "</div>"
      ],
      "text/plain": [
       "         user_name  retweeted_or_not  number_Tweets_issued  num_followers  \\\n",
       "5  thomasmountain5             False                  3649            576   \n",
       "6       Schokobub2             False                  5027            211   \n",
       "7     cri_marcucci             False                 18083            280   \n",
       "8     elsolespanol             False                   105             51   \n",
       "\n",
       "   verified_or_not  \\\n",
       "5            False   \n",
       "6            False   \n",
       "7            False   \n",
       "8            False   \n",
       "\n",
       "                                            location_the_tweet  \\\n",
       "5                                                          b''   \n",
       "6                                                          b''   \n",
       "7                                               b'Roma, Lazio'   \n",
       "8  b'Valencia, Espa\\xc3\\xb1a \\xf0\\x9f\\x87\\xaa\\xf0\\x9f\\x87\\xb8'   \n",
       "\n",
       "  when_the_tweet_created  \\\n",
       "5    2020-11-03 08:17:05   \n",
       "6    2020-11-03 08:17:04   \n",
       "7    2020-11-03 08:17:02   \n",
       "8    2020-11-03 08:17:02   \n",
       "\n",
       "                                                                                                                                                                text  \n",
       "5                                                         b'@murray_nyc @realDonaldTrump A vote for #Trump is a vote for bigotry, for #racism, and for intolerance.'  \n",
       "6         b'RT @Dakotadamus: $10,000 cash give giveaway: If either Presidential Candidate gets 366 or more electoral votes (Obama had 365 in 2008) in #\\xe2\\x80\\xa6'  \n",
       "7  b'RT @_Nico_Piro_: Una #NewYork mai vista cos\\xc3\\xac: transenne, tavole di legno sulle vetrine dei negozi (non solo sulla quinta, non solo negozi d\\xe2\\x80\\xa6'  \n",
       "8                      b'When Biden wins tonight, what is that fucking maniac Trump going to do?\\n\\n#Election2020 #Trump #Biden\\xe2\\x80\\xa6 https://t.co/rgyDcuY9I6'  "
      ]
     },
     "execution_count": 148,
     "metadata": {},
     "output_type": "execute_result"
    }
   ],
   "source": [
    "df = pd.read_csv(\"hashtag_tweets.csv\",index_col=False, names=[\"user_name\",\"retweeted_or_not\", \"number_Tweets_issued\", \"num_followers\", \"verified_or_not\", \"location_the_tweet\", \"when_the_tweet_created\", \"text\" ]) \n",
    "df.iloc[5:9]"
   ]
  },
  {
   "cell_type": "code",
   "execution_count": 170,
   "metadata": {},
   "outputs": [],
   "source": [
    "df1=df[['text']].copy()"
   ]
  },
  {
   "cell_type": "markdown",
   "metadata": {},
   "source": [
    "## Tweet text  Preprocessing \n",
    "Since we are dealing with tweets, we need to do specific tweet text cleaning along with normal text pre-processing. A tweet may contains\n",
    "\n",
    "- URL's\n",
    "- Mentions\n",
    "- Hashtags\n",
    "- Emojis\n",
    "- Smileys\n",
    "- Spefic words etc..\n"
   ]
  },
  {
   "cell_type": "markdown",
   "metadata": {},
   "source": [
    "\n",
    "To clean the tweet , we can use a python library tweet-preprocessor instead of writing the cleaning logic ourself."
   ]
  },
  {
   "cell_type": "code",
   "execution_count": 171,
   "metadata": {},
   "outputs": [
    {
     "name": "stdout",
     "output_type": "stream",
     "text": [
      "Requirement already satisfied: tweet-preprocessor in c:\\users\\dijia\\anaconda3\\lib\\site-packages (0.6.0)\n"
     ]
    }
   ],
   "source": [
    "# Install tweet-preprocessor \n",
    "!pip install tweet-preprocessor"
   ]
  },
  {
   "cell_type": "code",
   "execution_count": 172,
   "metadata": {},
   "outputs": [],
   "source": [
    "import preprocessor as p\n",
    "\n",
    "# celan the text\n",
    "def preprocess_tweet(row):\n",
    "    text = row['text']\n",
    "    text = p.clean(text)\n",
    "    return text"
   ]
  },
  {
   "cell_type": "code",
   "execution_count": 173,
   "metadata": {},
   "outputs": [],
   "source": [
    "df1['text_embed_Preprocessor'] = df1.apply(preprocess_tweet, axis=1)"
   ]
  },
  {
   "cell_type": "code",
   "execution_count": 174,
   "metadata": {},
   "outputs": [
    {
     "data": {
      "text/html": [
       "<div>\n",
       "<style scoped>\n",
       "    .dataframe tbody tr th:only-of-type {\n",
       "        vertical-align: middle;\n",
       "    }\n",
       "\n",
       "    .dataframe tbody tr th {\n",
       "        vertical-align: top;\n",
       "    }\n",
       "\n",
       "    .dataframe thead th {\n",
       "        text-align: right;\n",
       "    }\n",
       "</style>\n",
       "<table border=\"1\" class=\"dataframe\">\n",
       "  <thead>\n",
       "    <tr style=\"text-align: right;\">\n",
       "      <th></th>\n",
       "      <th>text</th>\n",
       "      <th>text_embed_Preprocessor</th>\n",
       "    </tr>\n",
       "  </thead>\n",
       "  <tbody>\n",
       "    <tr>\n",
       "      <th>6</th>\n",
       "      <td>b'RT @Dakotadamus: $, cash give giveaway: If either Presidential Candidate gets  or more electoral votes (Obama had  in ) in #\\\\\\'</td>\n",
       "      <td>b'RT : $, cash give giveaway: If either Presidential Candidate gets or more electoral votes (Obama had in ) in \\\\\\'</td>\n",
       "    </tr>\n",
       "    <tr>\n",
       "      <th>7</th>\n",
       "      <td>b'RT @_Nico_Piro_: Una #NewYork mai vista cos\\\\xac: transenne, tavole di legno sulle vetrine dei negozi (non solo sulla quinta, non solo negozi d\\\\\\'</td>\n",
       "      <td>b'RT : Una mai vista cos\\\\xac: transenne, tavole di legno sulle vetrine dei negozi (non solo sulla quinta, non solo negozi d\\\\\\'</td>\n",
       "    </tr>\n",
       "    <tr>\n",
       "      <th>8</th>\n",
       "      <td>b'When Biden wins tonight, what is that fucking maniac Trump going to do?\\n\\n# #Trump #Biden\\\\\\ https://t.co/'</td>\n",
       "      <td>b'When Biden wins tonight, what is that fucking maniac Trump going to do?\\n\\n \\\\\\ '</td>\n",
       "    </tr>\n",
       "    <tr>\n",
       "      <th>9</th>\n",
       "      <td>b\"Thru all my  years of voting, I've always seen yard signs for candidates\\n\\nBut NOT this year\\\\\\\\\\n\\nI believe people ar\\\\\\ https://t.co/\"</td>\n",
       "      <td>b\"Thru all my years of voting, I've always seen yard signs for candidates\\n\\nBut NOT this year\\\\\\\\\\n\\nI believe people ar\\\\\\ \"</td>\n",
       "    </tr>\n",
       "  </tbody>\n",
       "</table>\n",
       "</div>"
      ],
      "text/plain": [
       "                                                                                                                                                    text  \\\n",
       "6                     b'RT @Dakotadamus: $, cash give giveaway: If either Presidential Candidate gets  or more electoral votes (Obama had  in ) in #\\\\\\'   \n",
       "7  b'RT @_Nico_Piro_: Una #NewYork mai vista cos\\\\xac: transenne, tavole di legno sulle vetrine dei negozi (non solo sulla quinta, non solo negozi d\\\\\\'   \n",
       "8                                         b'When Biden wins tonight, what is that fucking maniac Trump going to do?\\n\\n# #Trump #Biden\\\\\\ https://t.co/'   \n",
       "9           b\"Thru all my  years of voting, I've always seen yard signs for candidates\\n\\nBut NOT this year\\\\\\\\\\n\\nI believe people ar\\\\\\ https://t.co/\"   \n",
       "\n",
       "                                                                                                            text_embed_Preprocessor  \n",
       "6               b'RT : $, cash give giveaway: If either Presidential Candidate gets or more electoral votes (Obama had in ) in \\\\\\'  \n",
       "7  b'RT : Una mai vista cos\\\\xac: transenne, tavole di legno sulle vetrine dei negozi (non solo sulla quinta, non solo negozi d\\\\\\'  \n",
       "8                                               b'When Biden wins tonight, what is that fucking maniac Trump going to do?\\n\\n \\\\\\ '  \n",
       "9    b\"Thru all my years of voting, I've always seen yard signs for candidates\\n\\nBut NOT this year\\\\\\\\\\n\\nI believe people ar\\\\\\ \"  "
      ]
     },
     "execution_count": 174,
     "metadata": {},
     "output_type": "execute_result"
    }
   ],
   "source": [
    "#Tweet has been cleaned to normal text.\n",
    "df1.loc[6:9]"
   ]
  },
  {
   "cell_type": "code",
   "execution_count": 175,
   "metadata": {},
   "outputs": [
    {
     "data": {
      "text/plain": [
       "'banned = [u\"😀-🙏\".encode(\"utf-8\"), \\n          u\"🌀-🗿\".encode(\"utf-8\"),  # symbols & pictographs\\n          u\"🚀-\\U0001f6ff\".encode(\"utf-8\"), # transport & map symbols\\n          u\"\\U0001f1e0-🇿\".encode(\"utf-8\"), # flags (iOS)\\n         ]\\ndf[\"Text\"].apply(lambda x: [item for item in x if item not in banned])'"
      ]
     },
     "execution_count": 175,
     "metadata": {},
     "output_type": "execute_result"
    }
   ],
   "source": [
    "'''banned = [u\"\\U0001F600-\\U0001F64F\".encode(\"utf-8\"), \n",
    "          u\"\\U0001F300-\\U0001F5FF\".encode(\"utf-8\"),  # symbols & pictographs\n",
    "          u\"\\U0001F680-\\U0001F6FF\".encode(\"utf-8\"), # transport & map symbols\n",
    "          u\"\\U0001F1E0-\\U0001F1FF\".encode(\"utf-8\"), # flags (iOS)\n",
    "         ]\n",
    "df[\"Text\"].apply(lambda x: [item for item in x if item not in banned])'''"
   ]
  },
  {
   "cell_type": "markdown",
   "metadata": {},
   "source": [
    "### Now we can apply normal text preprocessing like\n",
    "\n",
    "- Lowercasing\n",
    "- Punctuation Removal\n",
    "- Replace extra white spaces\n",
    "- Stopwords removal"
   ]
  },
  {
   "cell_type": "code",
   "execution_count": 176,
   "metadata": {},
   "outputs": [
    {
     "name": "stdout",
     "output_type": "stream",
     "text": [
      "Requirement already satisfied: gensim in c:\\users\\dijia\\anaconda3\\lib\\site-packages (3.8.3)\n",
      "Requirement already satisfied: smart-open>=1.8.1 in c:\\users\\dijia\\anaconda3\\lib\\site-packages (from gensim) (3.0.0)\n",
      "Requirement already satisfied: scipy>=0.18.1 in c:\\users\\dijia\\anaconda3\\lib\\site-packages (from gensim) (1.5.0)\n",
      "Requirement already satisfied: Cython==0.29.14 in c:\\users\\dijia\\anaconda3\\lib\\site-packages (from gensim) (0.29.14)\n",
      "Requirement already satisfied: six>=1.5.0 in c:\\users\\dijia\\anaconda3\\lib\\site-packages (from gensim) (1.15.0)\n",
      "Requirement already satisfied: numpy>=1.11.3 in c:\\users\\dijia\\anaconda3\\lib\\site-packages (from gensim) (1.18.5)\n",
      "Requirement already satisfied: requests in c:\\users\\dijia\\anaconda3\\lib\\site-packages (from smart-open>=1.8.1->gensim) (2.24.0)\n",
      "Requirement already satisfied: idna<3,>=2.5 in c:\\users\\dijia\\anaconda3\\lib\\site-packages (from requests->smart-open>=1.8.1->gensim) (2.10)\n",
      "Requirement already satisfied: certifi>=2017.4.17 in c:\\users\\dijia\\anaconda3\\lib\\site-packages (from requests->smart-open>=1.8.1->gensim) (2020.6.20)\n",
      "Requirement already satisfied: chardet<4,>=3.0.2 in c:\\users\\dijia\\anaconda3\\lib\\site-packages (from requests->smart-open>=1.8.1->gensim) (3.0.4)\n",
      "Requirement already satisfied: urllib3!=1.25.0,!=1.25.1,<1.26,>=1.21.1 in c:\\users\\dijia\\anaconda3\\lib\\site-packages (from requests->smart-open>=1.8.1->gensim) (1.25.9)\n"
     ]
    }
   ],
   "source": [
    "!pip install gensim\n",
    "from gensim.parsing.preprocessing import remove_stopwords"
   ]
  },
  {
   "cell_type": "code",
   "execution_count": 177,
   "metadata": {},
   "outputs": [],
   "source": [
    "def stopword_removal(row):\n",
    "    text = row['text']\n",
    "    text = remove_stopwords(text)\n",
    "    return text"
   ]
  },
  {
   "cell_type": "code",
   "execution_count": 178,
   "metadata": {},
   "outputs": [
    {
     "data": {
      "text/html": [
       "<div>\n",
       "<style scoped>\n",
       "    .dataframe tbody tr th:only-of-type {\n",
       "        vertical-align: middle;\n",
       "    }\n",
       "\n",
       "    .dataframe tbody tr th {\n",
       "        vertical-align: top;\n",
       "    }\n",
       "\n",
       "    .dataframe thead th {\n",
       "        text-align: right;\n",
       "    }\n",
       "</style>\n",
       "<table border=\"1\" class=\"dataframe\">\n",
       "  <thead>\n",
       "    <tr style=\"text-align: right;\">\n",
       "      <th></th>\n",
       "      <th>text</th>\n",
       "      <th>text_embed_Preprocessor</th>\n",
       "      <th>text_after_preprocess</th>\n",
       "    </tr>\n",
       "  </thead>\n",
       "  <tbody>\n",
       "    <tr>\n",
       "      <th>0</th>\n",
       "      <td>b'Meine Hoffnung:\\nmit einem Ende der \\\\ #Trump beg\\\\ in der Folge auch das Ende von #Johnson / UK , der AfD bei un\\\\\\ https://t.co/'</td>\n",
       "      <td>b'Meine Hoffnungnmit einem Ende der \\\\ beg\\\\ in der Folge auch das Ende von / UK , der AfD bei un\\\\\\ '</td>\n",
       "      <td>b'Meine Hoffnung:\\nmit einem Ende der \\\\ #Trump beg\\\\ der Folge auch das Ende von #Johnson / UK , der AfD bei un\\\\\\ https://t.co/'</td>\n",
       "    </tr>\n",
       "    <tr>\n",
       "      <th>1</th>\n",
       "      <td>b'@realDonaldTrump I\\'m Here To Tell You That COVID Is Real and It\\'s No Joke, as Trump Mocks it to be...\\n#Trump, \"The\\\\\\ https://t.co/'</td>\n",
       "      <td>b' I\\'m Here To Tell You That COVID Is Real and It\\'s No Joke, as Trump Mocks it to be...\\n, \"The\\\\\\ '</td>\n",
       "      <td>b'@realDonaldTrump I\\'m Here To Tell You That COVID Is Real It\\'s No Joke, Trump Mocks be...\\n#Trump, \"The\\\\\\ https://t.co/'</td>\n",
       "    </tr>\n",
       "    <tr>\n",
       "      <th>2</th>\n",
       "      <td>b\"RT @ChenapanVilain: #ElectionDay #Trump #Biden \\nJ'ai peur les amis. Subitement, je me mets \\\\ douter.\\nLe lavage de cerveau m\\\\ commen\\\\\\\"</td>\n",
       "      <td>b\"RT : \\nJ'ai peur les amis. Subitement, je me mets \\\\ douter.\\nLe lavage de cerveau m\\\\ commen\\\\\\\"</td>\n",
       "      <td>b\"RT @ChenapanVilain: #ElectionDay #Trump #Biden \\nJ'ai peur les amis. Subitement, je mets \\\\ douter.\\nLe lavage cerveau m\\\\ commen\\\\\\\"</td>\n",
       "    </tr>\n",
       "    <tr>\n",
       "      <th>3</th>\n",
       "      <td>b\"Remember folks, there is no backup America. Once she falls, there's no going back. \\n\\n#Trump # #DonaldTrump\"</td>\n",
       "      <td>b\"Remember folks, there is no backup America. Once she falls, there's no going back. \\n\\n \"</td>\n",
       "      <td>b\"Remember folks, backup America. Once falls, there's going back. \\n\\n#Trump # #DonaldTrump\"</td>\n",
       "    </tr>\n",
       "    <tr>\n",
       "      <th>4</th>\n",
       "      <td>b'\"I Love Covid-.\" - Donald Trump \\\\\\\\xba\\\\\\\\\\\\\\\\xef\\\\ #MAGA # #Trump # # https://t.co/'</td>\n",
       "      <td>b'\"I Love Covid-.\" - Donald Trump \\\\\\\\xba\\\\\\\\\\\\\\\\xef\\\\ '</td>\n",
       "      <td>b'\"I Love Covid-.\" - Donald Trump \\\\\\\\xba\\\\\\\\\\\\\\\\xef\\\\ #MAGA # #Trump # # https://t.co/'</td>\n",
       "    </tr>\n",
       "  </tbody>\n",
       "</table>\n",
       "</div>"
      ],
      "text/plain": [
       "                                                                                                                                            text  \\\n",
       "0          b'Meine Hoffnung:\\nmit einem Ende der \\\\ #Trump beg\\\\ in der Folge auch das Ende von #Johnson / UK , der AfD bei un\\\\\\ https://t.co/'   \n",
       "1      b'@realDonaldTrump I\\'m Here To Tell You That COVID Is Real and It\\'s No Joke, as Trump Mocks it to be...\\n#Trump, \"The\\\\\\ https://t.co/'   \n",
       "2  b\"RT @ChenapanVilain: #ElectionDay #Trump #Biden \\nJ'ai peur les amis. Subitement, je me mets \\\\ douter.\\nLe lavage de cerveau m\\\\ commen\\\\\\\"   \n",
       "3                                b\"Remember folks, there is no backup America. Once she falls, there's no going back. \\n\\n#Trump # #DonaldTrump\"   \n",
       "4                                                       b'\"I Love Covid-.\" - Donald Trump \\\\\\\\xba\\\\\\\\\\\\\\\\xef\\\\ #MAGA # #Trump # # https://t.co/'   \n",
       "\n",
       "                                                                                  text_embed_Preprocessor  \\\n",
       "0  b'Meine Hoffnungnmit einem Ende der \\\\ beg\\\\ in der Folge auch das Ende von / UK , der AfD bei un\\\\\\ '   \n",
       "1  b' I\\'m Here To Tell You That COVID Is Real and It\\'s No Joke, as Trump Mocks it to be...\\n, \"The\\\\\\ '   \n",
       "2     b\"RT : \\nJ'ai peur les amis. Subitement, je me mets \\\\ douter.\\nLe lavage de cerveau m\\\\ commen\\\\\\\"   \n",
       "3             b\"Remember folks, there is no backup America. Once she falls, there's no going back. \\n\\n \"   \n",
       "4                                                b'\"I Love Covid-.\" - Donald Trump \\\\\\\\xba\\\\\\\\\\\\\\\\xef\\\\ '   \n",
       "\n",
       "                                                                                                                     text_after_preprocess  \n",
       "0       b'Meine Hoffnung:\\nmit einem Ende der \\\\ #Trump beg\\\\ der Folge auch das Ende von #Johnson / UK , der AfD bei un\\\\\\ https://t.co/'  \n",
       "1             b'@realDonaldTrump I\\'m Here To Tell You That COVID Is Real It\\'s No Joke, Trump Mocks be...\\n#Trump, \"The\\\\\\ https://t.co/'  \n",
       "2  b\"RT @ChenapanVilain: #ElectionDay #Trump #Biden \\nJ'ai peur les amis. Subitement, je mets \\\\ douter.\\nLe lavage cerveau m\\\\ commen\\\\\\\"  \n",
       "3                                             b\"Remember folks, backup America. Once falls, there's going back. \\n\\n#Trump # #DonaldTrump\"  \n",
       "4                                                 b'\"I Love Covid-.\" - Donald Trump \\\\\\\\xba\\\\\\\\\\\\\\\\xef\\\\ #MAGA # #Trump # # https://t.co/'  "
      ]
     },
     "execution_count": 178,
     "metadata": {},
     "output_type": "execute_result"
    }
   ],
   "source": [
    "df1['text_after_preprocess'] = df1.apply(stopword_removal, axis=1)\n",
    "df1.head()"
   ]
  },
  {
   "cell_type": "markdown",
   "metadata": {},
   "source": [
    "### Remove extra white spaces, punctuation and apply lower casing"
   ]
  },
  {
   "cell_type": "code",
   "execution_count": 179,
   "metadata": {},
   "outputs": [
    {
     "data": {
      "text/plain": [
       "text                       b'@realDonaldTrump I\\'m Here To Tell You That COVID Is Real and It\\'s No Joke, as Trump Mocks it to be...\\n#Trump, \"The\\\\\\ https://t.co/'\n",
       "text_embed_Preprocessor                                       b' I\\'m Here To Tell You That COVID Is Real and It\\'s No Joke, as Trump Mocks it to be...\\n, \"The\\\\\\ '\n",
       "text_after_preprocess                                  b realdonaldtrump i m here to tell you that covid is real it s no joke trump mocks be n trump the https t co \n",
       "Name: 1, dtype: object"
      ]
     },
     "execution_count": 179,
     "metadata": {},
     "output_type": "execute_result"
    }
   ],
   "source": [
    "df1['text_after_preprocess'] = df1['text_after_preprocess'].str.lower().str.replace('[^\\w\\s]',' ').str.replace('\\s\\s+', ' ')\n",
    "df1.loc[1]"
   ]
  },
  {
   "cell_type": "code",
   "execution_count": 180,
   "metadata": {},
   "outputs": [],
   "source": [
    "#remove Emoji from the words (remove all words which contains number)\n",
    "import re\n",
    "e=[]\n",
    "for i in range(0,100):\n",
    "    string=df1['text_after_preprocess'].loc[i]\n",
    "    e.append(re.sub(r'\\w*\\d\\w*', '', string).strip())\n",
    "\n",
    "#create new df \n",
    "df3 = pd.DataFrame({'text':e})\n",
    "#add column to existing df \n",
    "df1['text_after_preprocess'] = e"
   ]
  },
  {
   "cell_type": "code",
   "execution_count": null,
   "metadata": {},
   "outputs": [],
   "source": [
    "'''#remove Emoji from the words (remove all words which contains number)\n",
    "import re\n",
    "e=[]\n",
    "for i in range(0,100):\n",
    "    string=df['text'].loc[i]\n",
    "    e.append(re.sub(r'\\w*\\d\\w*', '', string).strip())\n",
    "\n",
    "#create new df \n",
    "df1 = pd.DataFrame({'text':e})\n",
    "#add column to existing df \n",
    "df['text'] = e'''"
   ]
  },
  {
   "cell_type": "code",
   "execution_count": 181,
   "metadata": {},
   "outputs": [],
   "source": [
    "df1['text_after_preprocess'] = df1['text_after_preprocess'].str[1:]\n"
   ]
  },
  {
   "cell_type": "code",
   "execution_count": 185,
   "metadata": {},
   "outputs": [
    {
     "data": {
      "text/html": [
       "<div>\n",
       "<style scoped>\n",
       "    .dataframe tbody tr th:only-of-type {\n",
       "        vertical-align: middle;\n",
       "    }\n",
       "\n",
       "    .dataframe tbody tr th {\n",
       "        vertical-align: top;\n",
       "    }\n",
       "\n",
       "    .dataframe thead th {\n",
       "        text-align: right;\n",
       "    }\n",
       "</style>\n",
       "<table border=\"1\" class=\"dataframe\">\n",
       "  <thead>\n",
       "    <tr style=\"text-align: right;\">\n",
       "      <th></th>\n",
       "      <th>text</th>\n",
       "      <th>text_embed_Preprocessor</th>\n",
       "      <th>text_after_preprocess</th>\n",
       "    </tr>\n",
       "  </thead>\n",
       "  <tbody>\n",
       "    <tr>\n",
       "      <th>4</th>\n",
       "      <td>b'\"I Love Covid-.\" - Donald Trump \\\\\\\\xba\\\\\\\\\\\\\\\\xef\\\\ #MAGA # #Trump # # https://t.co/'</td>\n",
       "      <td>b'\"I Love Covid-.\" - Donald Trump \\\\\\\\xba\\\\\\\\\\\\\\\\xef\\\\ '</td>\n",
       "      <td>i love covid donald trump   maga trump https t co</td>\n",
       "    </tr>\n",
       "    <tr>\n",
       "      <th>5</th>\n",
       "      <td>b'@murray_nyc @realDonaldTrump A vote for #Trump is a vote for bigotry, for #racism, and for intolerance.'</td>\n",
       "      <td>b' A vote for is a vote for bigotry, for , and for intolerance.'</td>\n",
       "      <td>murray_nyc realdonaldtrump a vote trump vote bigotry racism intolerance</td>\n",
       "    </tr>\n",
       "    <tr>\n",
       "      <th>6</th>\n",
       "      <td>b'RT @Dakotadamus: $, cash give giveaway: If either Presidential Candidate gets  or more electoral votes (Obama had  in ) in #\\\\\\'</td>\n",
       "      <td>b'RT : $, cash give giveaway: If either Presidential Candidate gets or more electoral votes (Obama had in ) in \\\\\\'</td>\n",
       "      <td>dakotadamus cash giveaway if presidential candidate gets electoral votes obama</td>\n",
       "    </tr>\n",
       "    <tr>\n",
       "      <th>7</th>\n",
       "      <td>b'RT @_Nico_Piro_: Una #NewYork mai vista cos\\\\xac: transenne, tavole di legno sulle vetrine dei negozi (non solo sulla quinta, non solo negozi d\\\\\\'</td>\n",
       "      <td>b'RT : Una mai vista cos\\\\xac: transenne, tavole di legno sulle vetrine dei negozi (non solo sulla quinta, non solo negozi d\\\\\\'</td>\n",
       "      <td>_nico_piro_ una newyork mai vista cos  transenne tavole di legno sulle vetrine dei negozi non solo sulla quinta non solo negozi d</td>\n",
       "    </tr>\n",
       "    <tr>\n",
       "      <th>8</th>\n",
       "      <td>b'When Biden wins tonight, what is that fucking maniac Trump going to do?\\n\\n# #Trump #Biden\\\\\\ https://t.co/'</td>\n",
       "      <td>b'When Biden wins tonight, what is that fucking maniac Trump going to do?\\n\\n \\\\\\ '</td>\n",
       "      <td>when biden wins tonight fucking maniac trump going do n n trump biden https t co</td>\n",
       "    </tr>\n",
       "    <tr>\n",
       "      <th>9</th>\n",
       "      <td>b\"Thru all my  years of voting, I've always seen yard signs for candidates\\n\\nBut NOT this year\\\\\\\\\\n\\nI believe people ar\\\\\\ https://t.co/\"</td>\n",
       "      <td>b\"Thru all my years of voting, I've always seen yard signs for candidates\\n\\nBut NOT this year\\\\\\\\\\n\\nI believe people ar\\\\\\ \"</td>\n",
       "      <td>thru years voting i ve seen yard signs candidates n nbut not year n ni believe people ar https t co</td>\n",
       "    </tr>\n",
       "  </tbody>\n",
       "</table>\n",
       "</div>"
      ],
      "text/plain": [
       "                                                                                                                                                    text  \\\n",
       "4                                                               b'\"I Love Covid-.\" - Donald Trump \\\\\\\\xba\\\\\\\\\\\\\\\\xef\\\\ #MAGA # #Trump # # https://t.co/'   \n",
       "5                                             b'@murray_nyc @realDonaldTrump A vote for #Trump is a vote for bigotry, for #racism, and for intolerance.'   \n",
       "6                     b'RT @Dakotadamus: $, cash give giveaway: If either Presidential Candidate gets  or more electoral votes (Obama had  in ) in #\\\\\\'   \n",
       "7  b'RT @_Nico_Piro_: Una #NewYork mai vista cos\\\\xac: transenne, tavole di legno sulle vetrine dei negozi (non solo sulla quinta, non solo negozi d\\\\\\'   \n",
       "8                                         b'When Biden wins tonight, what is that fucking maniac Trump going to do?\\n\\n# #Trump #Biden\\\\\\ https://t.co/'   \n",
       "9           b\"Thru all my  years of voting, I've always seen yard signs for candidates\\n\\nBut NOT this year\\\\\\\\\\n\\nI believe people ar\\\\\\ https://t.co/\"   \n",
       "\n",
       "                                                                                                            text_embed_Preprocessor  \\\n",
       "4                                                                          b'\"I Love Covid-.\" - Donald Trump \\\\\\\\xba\\\\\\\\\\\\\\\\xef\\\\ '   \n",
       "5                                                                  b' A vote for is a vote for bigotry, for , and for intolerance.'   \n",
       "6               b'RT : $, cash give giveaway: If either Presidential Candidate gets or more electoral votes (Obama had in ) in \\\\\\'   \n",
       "7  b'RT : Una mai vista cos\\\\xac: transenne, tavole di legno sulle vetrine dei negozi (non solo sulla quinta, non solo negozi d\\\\\\'   \n",
       "8                                               b'When Biden wins tonight, what is that fucking maniac Trump going to do?\\n\\n \\\\\\ '   \n",
       "9    b\"Thru all my years of voting, I've always seen yard signs for candidates\\n\\nBut NOT this year\\\\\\\\\\n\\nI believe people ar\\\\\\ \"   \n",
       "\n",
       "                                                                                                                 text_after_preprocess  \n",
       "4                                                                                    i love covid donald trump   maga trump https t co  \n",
       "5                                                              murray_nyc realdonaldtrump a vote trump vote bigotry racism intolerance  \n",
       "6                                                       dakotadamus cash giveaway if presidential candidate gets electoral votes obama  \n",
       "7    _nico_piro_ una newyork mai vista cos  transenne tavole di legno sulle vetrine dei negozi non solo sulla quinta non solo negozi d  \n",
       "8                                                     when biden wins tonight fucking maniac trump going do n n trump biden https t co  \n",
       "9                                  thru years voting i ve seen yard signs candidates n nbut not year n ni believe people ar https t co  "
      ]
     },
     "execution_count": 185,
     "metadata": {},
     "output_type": "execute_result"
    }
   ],
   "source": [
    "df1['text_after_preprocess'] =df1['text_after_preprocess'].str.replace(r'xba', '')\n",
    "df1['text_after_preprocess']=df1['text_after_preprocess'].str.replace(r'xbb', '')\n",
    "df1['text_after_preprocess'] =df1['text_after_preprocess'].str.replace(r'xac', '')\n",
    "df1['text_after_preprocess'] =df1['text_after_preprocess'].str.replace(r'xef', '')\n",
    "df1['text_after_preprocess'] =df1['text_after_preprocess'].str.replace(r'xbf', '')\n",
    "df1['text_after_preprocess'] =df1['text_after_preprocess'].str.replace(r'xbd', '')\n",
    "df1['text_after_preprocess'] =df1['text_after_preprocess'].str.replace(r'xbe', '')\n",
    "df1['text_after_preprocess']=df1['text_after_preprocess'].str.replace(r'rt', '')\n",
    "df1.loc[4:9]"
   ]
  },
  {
   "cell_type": "markdown",
   "metadata": {},
   "source": [
    "## Feature Extraction"
   ]
  },
  {
   "cell_type": "code",
   "execution_count": 108,
   "metadata": {},
   "outputs": [
    {
     "data": {
      "text/html": [
       "<div>\n",
       "<style scoped>\n",
       "    .dataframe tbody tr th:only-of-type {\n",
       "        vertical-align: middle;\n",
       "    }\n",
       "\n",
       "    .dataframe tbody tr th {\n",
       "        vertical-align: top;\n",
       "    }\n",
       "\n",
       "    .dataframe thead th {\n",
       "        text-align: right;\n",
       "    }\n",
       "</style>\n",
       "<table border=\"1\" class=\"dataframe\">\n",
       "  <thead>\n",
       "    <tr style=\"text-align: right;\">\n",
       "      <th></th>\n",
       "      <th>text</th>\n",
       "      <th>word_count</th>\n",
       "    </tr>\n",
       "  </thead>\n",
       "  <tbody>\n",
       "    <tr>\n",
       "      <th>5</th>\n",
       "      <td>a vote vote bigotry intolerance</td>\n",
       "      <td>6</td>\n",
       "    </tr>\n",
       "    <tr>\n",
       "      <th>6</th>\n",
       "      <td>cash giveaway if presidential candidate gets electoral votes obama</td>\n",
       "      <td>13</td>\n",
       "    </tr>\n",
       "    <tr>\n",
       "      <th>7</th>\n",
       "      <td>una mai vista cos   transenne tavole di legno sulle vetrine dei negozi non solo sulla quinta non solo negozi d</td>\n",
       "      <td>24</td>\n",
       "    </tr>\n",
       "    <tr>\n",
       "      <th>8</th>\n",
       "      <td>when biden wins tonight fucking maniac trump going do n n</td>\n",
       "      <td>12</td>\n",
       "    </tr>\n",
       "  </tbody>\n",
       "</table>\n",
       "</div>"
      ],
      "text/plain": [
       "                                                                                                               text  \\\n",
       "5                                                                                   a vote vote bigotry intolerance   \n",
       "6                                                cash giveaway if presidential candidate gets electoral votes obama   \n",
       "7    una mai vista cos   transenne tavole di legno sulle vetrine dei negozi non solo sulla quinta non solo negozi d   \n",
       "8                                                         when biden wins tonight fucking maniac trump going do n n   \n",
       "\n",
       "   word_count  \n",
       "5           6  \n",
       "6          13  \n",
       "7          24  \n",
       "8          12  "
      ]
     },
     "execution_count": 108,
     "metadata": {},
     "output_type": "execute_result"
    }
   ],
   "source": [
    "df['word_count'] = df['text'].apply(lambda x: len(str(x).split(\" \")))\n",
    "df[['text','word_count']].iloc[5:9]"
   ]
  },
  {
   "cell_type": "code",
   "execution_count": 99,
   "metadata": {},
   "outputs": [
    {
     "name": "stdout",
     "output_type": "stream",
     "text": [
      "Requirement already satisfied: wordcloud in c:\\users\\dijia\\anaconda3\\lib\\site-packages (1.8.0)\n",
      "Requirement already satisfied: pillow in c:\\users\\dijia\\anaconda3\\lib\\site-packages (from wordcloud) (7.2.0)\n",
      "Requirement already satisfied: numpy>=1.6.1 in c:\\users\\dijia\\anaconda3\\lib\\site-packages (from wordcloud) (1.18.5)\n",
      "Requirement already satisfied: matplotlib in c:\\users\\dijia\\anaconda3\\lib\\site-packages (from wordcloud) (3.2.2)\n",
      "Requirement already satisfied: cycler>=0.10 in c:\\users\\dijia\\anaconda3\\lib\\site-packages (from matplotlib->wordcloud) (0.10.0)\n",
      "Requirement already satisfied: python-dateutil>=2.1 in c:\\users\\dijia\\anaconda3\\lib\\site-packages (from matplotlib->wordcloud) (2.8.1)\n",
      "Requirement already satisfied: pyparsing!=2.0.4,!=2.1.2,!=2.1.6,>=2.0.1 in c:\\users\\dijia\\anaconda3\\lib\\site-packages (from matplotlib->wordcloud) (2.4.7)\n",
      "Requirement already satisfied: kiwisolver>=1.0.1 in c:\\users\\dijia\\anaconda3\\lib\\site-packages (from matplotlib->wordcloud) (1.2.0)\n",
      "Requirement already satisfied: six in c:\\users\\dijia\\anaconda3\\lib\\site-packages (from cycler>=0.10->matplotlib->wordcloud) (1.15.0)\n"
     ]
    }
   ],
   "source": [
    "!pip install wordcloud"
   ]
  },
  {
   "cell_type": "code",
   "execution_count": 103,
   "metadata": {},
   "outputs": [
    {
     "data": {
      "text/plain": [
       "(-0.5, 399.5, 199.5, -0.5)"
      ]
     },
     "execution_count": 103,
     "metadata": {},
     "output_type": "execute_result"
    },
    {
     "data": {
      "image/png": "[encoded data removed]",
      "text/plain": [
       "<Figure size 720x2160 with 2 Axes>"
      ]
     },
     "metadata": {
      "needs_background": "light"
     },
     "output_type": "display_data"
    }
   ],
   "source": [
    "from wordcloud import WordCloud, STOPWORDS , ImageColorGenerator\n",
    "# Start with one review:\n",
    "df_ADR = df[df['text']==1]\n",
    "df_NADR = df[df['text']==0]\n",
    "tweet_All = \" \".join(review for review in df.text)\n",
    "tweet_ADR = \" \".join(review for review in df_ADR.text)\n",
    "tweet_NADR = \" \".join(review for review in df_NADR.text)\n",
    "\n",
    "fig, ax = plt.subplots(2, 1, figsize  = (10,30))\n",
    "# Create and generate a word cloud image:\n",
    "wordcloud_ALL = WordCloud(max_font_size=50, max_words=100, background_color=\"white\").generate(tweet_All)\n",
    "#wordcloud_ADR = WordCloud(max_font_size=50, max_words=100, background_color=\"white\").generate(tweet_ADR)\n",
    "#wordcloud_NADR = WordCloud(max_font_size=50, max_words=100, background_color=\"white\").generate(tweet_NADR)\n",
    "\n",
    "# Display the generated image:\n",
    "ax[0].imshow(wordcloud_ALL, interpolation='bilinear')\n",
    "ax[0].set_title('All Tweets', fontsize=30)\n",
    "ax[0].axis('off')\n"
   ]
  },
  {
   "cell_type": "code",
   "execution_count": 115,
   "metadata": {},
   "outputs": [
    {
     "data": {
      "text/html": [
       "<div>\n",
       "<style scoped>\n",
       "    .dataframe tbody tr th:only-of-type {\n",
       "        vertical-align: middle;\n",
       "    }\n",
       "\n",
       "    .dataframe tbody tr th {\n",
       "        vertical-align: top;\n",
       "    }\n",
       "\n",
       "    .dataframe thead th {\n",
       "        text-align: right;\n",
       "    }\n",
       "</style>\n",
       "<table border=\"1\" class=\"dataframe\">\n",
       "  <thead>\n",
       "    <tr style=\"text-align: right;\">\n",
       "      <th></th>\n",
       "      <th>text</th>\n",
       "      <th>word_count</th>\n",
       "      <th>Tweet_tokenized</th>\n",
       "    </tr>\n",
       "  </thead>\n",
       "  <tbody>\n",
       "    <tr>\n",
       "      <th>5</th>\n",
       "      <td>a vote vote bigotry intolerance</td>\n",
       "      <td>6</td>\n",
       "      <td>[, a, vote, vote, bigotry, intolerance]</td>\n",
       "    </tr>\n",
       "    <tr>\n",
       "      <th>6</th>\n",
       "      <td>cash giveaway if presidential candidate gets electoral votes obama</td>\n",
       "      <td>13</td>\n",
       "      <td>[, cash, giveaway, if, presidential, candidate, gets, electoral, votes, obama]</td>\n",
       "    </tr>\n",
       "    <tr>\n",
       "      <th>7</th>\n",
       "      <td>una mai vista cos   transenne tavole di legno sulle vetrine dei negozi non solo sulla quinta non solo negozi d</td>\n",
       "      <td>24</td>\n",
       "      <td>[, una, mai, vista, cos, transenne, tavole, di, legno, sulle, vetrine, dei, negozi, non, solo, sulla, quinta, non, solo, negozi, d]</td>\n",
       "    </tr>\n",
       "    <tr>\n",
       "      <th>8</th>\n",
       "      <td>when biden wins tonight fucking maniac trump going do n n</td>\n",
       "      <td>12</td>\n",
       "      <td>[, when, biden, wins, tonight, fucking, maniac, trump, going, do, n, n]</td>\n",
       "    </tr>\n",
       "  </tbody>\n",
       "</table>\n",
       "</div>"
      ],
      "text/plain": [
       "                                                                                                               text  \\\n",
       "5                                                                                   a vote vote bigotry intolerance   \n",
       "6                                                cash giveaway if presidential candidate gets electoral votes obama   \n",
       "7    una mai vista cos   transenne tavole di legno sulle vetrine dei negozi non solo sulla quinta non solo negozi d   \n",
       "8                                                         when biden wins tonight fucking maniac trump going do n n   \n",
       "\n",
       "   word_count  \\\n",
       "5           6   \n",
       "6          13   \n",
       "7          24   \n",
       "8          12   \n",
       "\n",
       "                                                                                                                       Tweet_tokenized  \n",
       "5                                                                                              [, a, vote, vote, bigotry, intolerance]  \n",
       "6                                                       [, cash, giveaway, if, presidential, candidate, gets, electoral, votes, obama]  \n",
       "7  [, una, mai, vista, cos, transenne, tavole, di, legno, sulle, vetrine, dei, negozi, non, solo, sulla, quinta, non, solo, negozi, d]  \n",
       "8                                                              [, when, biden, wins, tonight, fucking, maniac, trump, going, do, n, n]  "
      ]
     },
     "execution_count": 115,
     "metadata": {},
     "output_type": "execute_result"
    }
   ],
   "source": [
    "def tokenization(text):\n",
    "    text = re.split('\\W+', text)\n",
    "    return text\n",
    "df['Tweet_tokenized'] = df['text'].apply(lambda x: tokenization(x.lower()))\n",
    "df1=df[['text','word_count','Tweet_tokenized']]\n",
    "df1.iloc[5:9]"
   ]
  },
  {
   "cell_type": "code",
   "execution_count": 137,
   "metadata": {},
   "outputs": [],
   "source": [
    "from sklearn.feature_extraction.text import CountVectorizer"
   ]
  },
  {
   "cell_type": "code",
   "execution_count": null,
   "metadata": {},
   "outputs": [],
   "source": [
    "# create an instance of countvectorizer\n",
    "vect = CountVectorizer()  # shift tab "
   ]
  }
 ],
 "metadata": {
  "kernelspec": {
   "display_name": "Python 3",
   "language": "python",
   "name": "python3"
  },
  "language_info": {
   "codemirror_mode": {
    "name": "ipython",
    "version": 3
   },
   "file_extension": ".py",
   "mimetype": "text/x-python",
   "name": "python",
   "nbconvert_exporter": "python",
   "pygments_lexer": "ipython3",
   "version": "3.8.3"
  }
 },
 "nbformat": 4,
 "nbformat_minor": 4
}
