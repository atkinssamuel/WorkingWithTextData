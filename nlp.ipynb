{
 "metadata": {
  "language_info": {
   "codemirror_mode": {
    "name": "ipython",
    "version": 3
   },
   "file_extension": ".py",
   "mimetype": "text/x-python",
   "name": "python",
   "nbconvert_exporter": "python",
   "pygments_lexer": "ipython3",
   "version": "3.7.6-final"
  },
  "orig_nbformat": 2,
  "kernelspec": {
   "name": "Python 3.7.6 64-bit (conda)",
   "display_name": "Python 3.7.6 64-bit (conda)",
   "metadata": {
    "interpreter": {
     "hash": "cf5781ee9688be887a830af3862a813ef5b0a355a8789de10c6994358407057c"
    }
   }
  }
 },
 "nbformat": 4,
 "nbformat_minor": 2,
 "cells": [
  {
   "source": [
    "# importing\n",
    "import pandas as pd\n",
    "import numpy as np\n",
    "import bz2\n",
    "import nltk\n",
    "import torch\n",
    "import torchtext\n",
    "import gensim"
   ],
   "cell_type": "code",
   "metadata": {},
   "execution_count": 6,
   "outputs": []
  },
  {
   "source": [
    "# Document Feature Extraction, Text Processing, and Word Embedding\n",
    "## Requirements\n",
    "- Introduce scikit-learn, nltk, and other text processing libraries\n",
    "- Explain basic feature extraction from text data\n",
    "    - Number of words\n",
    "    - Number of characters\n",
    "    - Average word length\n",
    "    - Number of stopwords\n",
    "    - Other feature extraction techniques that may be relevant\n",
    "- Explan advanced text processing\n",
    "    - N-grams\n",
    "    - Term Frequency (TF)\n",
    "    - Inverse Document Frequency (IDF)\n",
    "    - Term Frequency-Inverse Document Frequency (TF-IDF)\n",
    "    - \"Bag of Words\" document representation\n",
    "    - Word embedding\n",
    "    - Other text processing methods that may be important"
   ],
   "cell_type": "markdown",
   "metadata": {}
  },
  {
   "source": [
    "# Document Feature Extraction\n",
    "## TF/IDF\n",
    "Term Frequency (TF) and Inverse Document Frequency (IDF) are useful data that will inform us as to which terms are the most relevant to a given document in a corpus. TF simply measures the frequency of a given word in a document. This measurement is useful because typically, common words are relevant to the meaning of that document. TF can be calculated in the following way:\n",
    "\n",
    "$TF = OC / T$\n",
    "\n",
    "$OC$ is the total number of occurences of that particular word in the document and $T$ is the total number of words in the document. Suppose we have access to all of the articles on Wikipedia. Our corpus, in this context, is all of these Wikipedia articles combined. Each of these articles would be its own entity called a document. Document Frequency (DF) is a measure of how frequently a given word appears in the entire corpus of text. The IDF is the inverst of the DF:\n",
    "\n",
    "$IDF = \\frac{1}{DF}$\n",
    "\n",
    "Using the TF and the IDF we can measure how important and unique a given word is for a particular document. Since word frequencies are distributed exponentially, we use the log of the IDF to obtain a measure for the value of a word in a given document:\n",
    "\n",
    "Word Value (WV) $= TF \\cdot log(IDF)$\n",
    "\n",
    "This approach treats the documents in a corpus as a \"bag of words\". This means that this approach does not take into account the meaning of sentences or the contexts in which these words are used in. This restricts the applications of this method severely. \n",
    "\n",
    "### TF/IDF Application\n",
    "Suppose we wish to search our Wikipedia corpus for a document most relevant to Serena Williams. We could compute the WV for \"Serena Williams\" accross all of the documents. Then, we could the set of documents that had the highest \"Serena Williams\" WVs. This would be a reasonably effective way to query a corpus for relevant documents. \n",
    "\n",
    "# N-Gram Models\n",
    "N-Gram models are very useful models in the field of text analysis. An N-Gram model can predict the probability of a word occurring based on the occurrence of the N-1 words preceding it. These models have a tremendous amount of use cases. They can be used to determine which word belongs in a particular sentence for the purpose of text generation. They can be used to detect spelling errors in sentences. They can also be used as speech recognition engines. \n",
    "\n",
    "We will illustrate a simple example of how an N-Gram model can be used to detect a spelling error. Suppose we are given the following set of sentences:\n"
   ],
   "cell_type": "markdown",
   "metadata": {}
  },
  {
   "cell_type": "code",
   "execution_count": 7,
   "metadata": {},
   "outputs": [],
   "source": [
    "sentence = \"Today I went to the store. Yesterday it took me 10 minutes to drive there. Today, it took me 15 minutes to get there and 15 minuets to get back.\""
   ]
  },
  {
   "source": [
    "\"minutes\" was spelled as \"minuets\" in the third sentence. If we implement a simple bi-gram (2-gram) model on this corpus, we can compute the probability of each word appearing as a function of the word appearing immediately before that word. The following snippet tokenizes the above sentence and computes the bi-gram frequencies:"
   ],
   "cell_type": "markdown",
   "metadata": {}
  },
  {
   "cell_type": "code",
   "execution_count": 8,
   "metadata": {},
   "outputs": [
    {
     "output_type": "stream",
     "name": "stdout",
     "text": [
      "(minute, to)           2\n(took, me)             2\n(to, get)              2\n(it, took)             2\n(10, minute)           1\n(get, there)           1\n(15, minuet)           1\n(store., Yesterday)    1\n(me, 15)               1\n(Yesterday, it)        1\n(to, drive)            1\n(there., Today)        1\n(me, 10)               1\n(,, it)                1\n(15, minute)           1\n(the, store.)          1\n(to, the)              1\n(there, and)           1\n(minuet, to)           1\n(back, .)              1\n(get, back)            1\n(and, 15)              1\n(Today, I)             1\n(went, to)             1\n(I, went)              1\n(drive, there.)        1\n(Today, ,)             1\ndtype: int64\n"
     ]
    }
   ],
   "source": [
    "tree_bank_tokenizer = nltk.tokenize.TreebankWordTokenizer()\n",
    "wnlemmatizer = nltk.stem.WordNetLemmatizer()\n",
    "words = tree_bank_tokenizer.tokenize(sentence)\n",
    "words = [wnlemmatizer.lemmatize(word) for word in words]\n",
    "n_grams_series = pd.Series(nltk.ngrams(words, 2))\n",
    "print(n_grams_series.value_counts())"
   ]
  },
  {
   "source": [
    "From the snippet above, we can see that the word \"minute\" appears twice before the word \"to\". In the original corpus, the word \"to\" appears 3 times, not including the time when it appeared after \"minuets\". Therefore, there is a probability of 2/3 that \"minuets\" should be \"minutes\" and a probability of 1/3 that it should be \"went\".\n",
    "\n",
    "In this simple example a bi-gram model was able to detect a spelling mistake. By using a large corpus we can achieve very effective N-gram models. Further, increasing the model's \"N\" we can sometimes increase the effectiveness of the model. Increasing \"N\" can also, however, harm the effectiveness of the model by using irrelevant words to determine the context of a given word. "
   ],
   "cell_type": "markdown",
   "metadata": {}
  },
  {
   "source": [
    "# Text Processing for Complex Models\n",
    "## Why is Text Processing Important?\n",
    "Natural language processing is a branch of artificial intelligence in which unstructured text data is broken down into information that can be analyzed by models. Especially in the age of social media, humans commuincate online through unstructured text messages all the time. Whether it be through Twitter, private messaging platforms like Facebook Messenger, or through product reviewing interfaces like Yelp. The ability to transform these unstructured blobs of text into forms that are machines can understand opens the door to a wide variety of applications. \n",
    "\n",
    "These applications primarily fall under text classification and generative models. Text classification agents try to uncover the intent, logic, and/or meaning behind blobs of text. This model type can be implemented in all sorts of contexts. For example, as an AI that can automatically sort through text reviews to characterize the performance of a fast-food chain. \n",
    "\n",
    "Processed text can also be used as an input to generative models. These generative models learn how to commuincate by training on large blobs of processed text. These models can be used to generate speeches or converse with customers, for example.\n",
    "\n",
    "## Tokenization\n",
    "When trying to analyze a corpus, some characters, a chain of words, or a set of reviews, we are initially provided with some text. This text may contain spelling errors, they may or may not obey the grammatical rules of the English language, and they may contain punctuation. For our analysis, we will consider Amazon review data. The following code snippets load the Amazon review dataset and display a handful of example reviews:"
   ],
   "cell_type": "markdown",
   "metadata": {}
  },
  {
   "cell_type": "code",
   "execution_count": 9,
   "metadata": {},
   "outputs": [],
   "source": [
    "# loading data\n",
    "# available: https://www.kaggle.com/bittlingmayer/amazonreviews\n",
    "train_data_file = bz2.BZ2File(\"amazon-review-data/train.ft.txt.bz2\")\n",
    "test_data_file = bz2.BZ2File(\"amazon-review-data/test.ft.txt.bz2\")\n",
    "train_lines = train_data_file.readlines()\n",
    "test_lines = test_data_file.readlines()\n",
    "del train_data_file, test_data_file\n",
    "train_lines = [x.decode('utf-8') for x in train_lines]\n",
    "test_lines = [x.decode('utf-8') for x in test_lines]"
   ]
  },
  {
   "cell_type": "code",
   "execution_count": 10,
   "metadata": {},
   "outputs": [
    {
     "output_type": "stream",
     "name": "stdout",
     "text": [
      "Train Lines Length = 3600000\nTest Lines Length = 400000\nLength of Total Dataset = 4000000\nPercentage of Training Data = 90.0%\nPercentage of Testing Data = 10.0%\n"
     ]
    }
   ],
   "source": [
    "# dataset properties\n",
    "train_lines_len = len(train_lines)\n",
    "test_lines_len = len(test_lines)\n",
    "total_length = train_lines_len + test_lines_len\n",
    "print(\"Train Lines Length =\", train_lines_len)\n",
    "print(\"Test Lines Length =\", test_lines_len)\n",
    "\n",
    "total_length = train_lines_len + test_lines_len\n",
    "\n",
    "print(\"Length of Total Dataset =\", total_length)\n",
    "print(\"Percentage of Training Data = {}%\".format(round(train_lines_len / total_length * 100, 3)))\n",
    "print(\"Percentage of Testing Data = {}%\".format(round(test_lines_len / total_length * 100, 3)))\n",
    "\n"
   ]
  },
  {
   "cell_type": "code",
   "execution_count": 11,
   "metadata": {},
   "outputs": [
    {
     "output_type": "stream",
     "name": "stdout",
     "text": [
      "Amazon Example Review at Index 99\nCaution!: These tracks are not the \"original\" versions but are re-recorded versions. So, whether the tracks are \"remastered\" or not is irrelevant.\n\nAmazon Example Review at Index 90\nNo instructions included - do not trust seller: Promised with this item are \"Complete Instructions\" and the additional pledge that \"Sweet Graces will email you with the Supply List and Instruction sheets on purchase - so you can be ready ahead of time!\" I received none of this - only a plastic figurine and bracelet. To boot, Amazon claims they can do nothing to help me contact the seller. All I got was a phone number for the manufacturer. Let's hope that yields some results. Meanwhile, I'm wishing I had listened to previous feedback about this unreliable seller :/\n\nAmazon Example Review at Index 15\nDon't try to fool us with fake reviews.: It's glaringly obvious that all of the glowing reviews have been written by the same person, perhaps the author herself. They all have the same misspellings and poor sentence structure that is featured in the book. Who made Veronica Haddon think she is an author?\n\n"
     ]
    }
   ],
   "source": [
    "# amazon review examples\n",
    "np.random.seed(20)\n",
    "random_indices = [np.random.randint(100) for x in range(3)]\n",
    "for index in random_indices:\n",
    "    print(\"Amazon Example Review at Index {}\".format(index))\n",
    "    print(train_lines[index][11:])"
   ]
  },
  {
   "source": [
    "As shown above, these text reviews contain a few sentences strung together to form a review. These sentences contain punctuation, capital letters, slang, and spelling mistakes. Our goal when processing these blobs of text is to take these unstructured sentences and transform them into a set of tokens that a model can understand. Currently, the model cannot understand the meaning of these sentences.\n",
    "\n",
    "There are several natural language processing libraries in Python that allow us to create tokens from these unstructured sentences. The way in which we break these sentences apart will determine the effectiveness of the model.\n",
    "\n",
    "To create tokens, we must first consider the way in which we understand the English language. A sentence is made up of words. These words are separated by spaces. We can tokenize a sentence by splitting up the sentence using white-space as a delimiter. Consider the following text entry:"
   ],
   "cell_type": "markdown",
   "metadata": {}
  },
  {
   "cell_type": "code",
   "execution_count": 12,
   "metadata": {},
   "outputs": [
    {
     "output_type": "stream",
     "name": "stdout",
     "text": [
      "i liked this album more then i thought i would: I heard a song or two and thought same o same o,but when i listened to songs like \"blue angel\",\"lanna\" and 'mama\" the hair just rose off my neck.Roy is trully an amazing singer with a talent you don't find much now days.\n\n"
     ]
    }
   ],
   "source": [
    "text_entry_example = train_lines[24][11:]\n",
    "print(text_entry_example)"
   ]
  },
  {
   "source": [
    "### WhitespaceTokenizer\n",
    "Using the ```nltk.tokenize.WhitespaceTokenizer```, we can separate the above review using white-space as the delimiter:"
   ],
   "cell_type": "markdown",
   "metadata": {}
  },
  {
   "source": [
    "white_space_tokenizer = nltk.tokenize.WhitespaceTokenizer()\n",
    "print(white_space_tokenizer.tokenize(text_entry_example))"
   ],
   "cell_type": "code",
   "metadata": {},
   "execution_count": 13,
   "outputs": [
    {
     "output_type": "stream",
     "name": "stdout",
     "text": [
      "['i', 'liked', 'this', 'album', 'more', 'then', 'i', 'thought', 'i', 'would:', 'I', 'heard', 'a', 'song', 'or', 'two', 'and', 'thought', 'same', 'o', 'same', 'o,but', 'when', 'i', 'listened', 'to', 'songs', 'like', '\"blue', 'angel\",\"lanna\"', 'and', '\\'mama\"', 'the', 'hair', 'just', 'rose', 'off', 'my', 'neck.Roy', 'is', 'trully', 'an', 'amazing', 'singer', 'with', 'a', 'talent', 'you', \"don't\", 'find', 'much', 'now', 'days.']\n"
     ]
    }
   ]
  },
  {
   "source": [
    "The problem with this tokenization method is that tokens like 'would:', 'neck.Roy', '\"blue', 'angel\"', and 'days.' don't have much meaning. 'would:' and 'would' have different meanings. Further, 'neck.Roy' and 'neck', 'roy' also have different meanings. We need to somehow take into account the puntuation present in each review. Further, we need to factor in capital letters, plural and singular forms of words, and spelling mistakes. Consider another example:"
   ],
   "cell_type": "markdown",
   "metadata": {}
  },
  {
   "cell_type": "code",
   "execution_count": 14,
   "metadata": {},
   "outputs": [
    {
     "output_type": "stream",
     "name": "stdout",
     "text": [
      "Don't try to fool us with fake reviews.: It's glaringly obvious that all of the glowing reviews have been written by the same person, perhaps the author herself. They all have the same misspellings and poor sentence structure that is featured in the book. Who made Veronica Haddon think she is an author?\n\n"
     ]
    }
   ],
   "source": [
    "text_entry_example = train_lines[15][11:]\n",
    "print(text_entry_example)"
   ]
  },
  {
   "source": [
    "### WordPunctTokenizer\n",
    "To take into account the punctuation present in a review, we will try the ```nltk.tokenize.WordPunctTokenizer```:"
   ],
   "cell_type": "markdown",
   "metadata": {}
  },
  {
   "cell_type": "code",
   "execution_count": 15,
   "metadata": {},
   "outputs": [
    {
     "output_type": "stream",
     "name": "stdout",
     "text": [
      "['Don', \"'\", 't', 'try', 'to', 'fool', 'us', 'with', 'fake', 'reviews', '.:', 'It', \"'\", 's', 'glaringly', 'obvious', 'that', 'all', 'of', 'the', 'glowing', 'reviews', 'have', 'been', 'written', 'by', 'the', 'same', 'person', ',', 'perhaps', 'the', 'author', 'herself', '.', 'They', 'all', 'have', 'the', 'same', 'misspellings', 'and', 'poor', 'sentence', 'structure', 'that', 'is', 'featured', 'in', 'the', 'book', '.', 'Who', 'made', 'Veronica', 'Haddon', 'think', 'she', 'is', 'an', 'author', '?']\n"
     ]
    }
   ],
   "source": [
    "word_punct_tokenizer = nltk.tokenize.WordPunctTokenizer()\n",
    "print(word_punct_tokenizer.tokenize(text_entry_example))"
   ]
  },
  {
   "source": [
    "From the above output we can see tokens like \"t\", \"s\", and \"'\" are occurring. These tokens have no meaning. \n",
    "\n",
    "### TreebankWordTokenizer\n",
    "To solve this problem we can use a more advanced tokenization method that transforms these types of tokens into tokens that are more meaningful called the ```nltk.tokenize.TreebankWordTokenizer```:"
   ],
   "cell_type": "markdown",
   "metadata": {}
  },
  {
   "cell_type": "code",
   "execution_count": 16,
   "metadata": {},
   "outputs": [
    {
     "output_type": "stream",
     "name": "stdout",
     "text": [
      "['Do', \"n't\", 'try', 'to', 'fool', 'us', 'with', 'fake', 'reviews.', ':', 'It', \"'s\", 'glaringly', 'obvious', 'that', 'all', 'of', 'the', 'glowing', 'reviews', 'have', 'been', 'written', 'by', 'the', 'same', 'person', ',', 'perhaps', 'the', 'author', 'herself.', 'They', 'all', 'have', 'the', 'same', 'misspellings', 'and', 'poor', 'sentence', 'structure', 'that', 'is', 'featured', 'in', 'the', 'book.', 'Who', 'made', 'Veronica', 'Haddon', 'think', 'she', 'is', 'an', 'author', '?']\n"
     ]
    }
   ],
   "source": [
    "tree_bank_tokenizer = nltk.tokenize.TreebankWordTokenizer()\n",
    "text_entry_tb_output = tree_bank_tokenizer.tokenize(text_entry_example)\n",
    "print(text_entry_tb_output)"
   ]
  },
  {
   "source": [
    "\"Do\" + \"n't\" converys the meaning of \"Don't\" better than \"Don\", \"'\", \"t\". The ```TreebankWordTokenizer``` presents the most effective way to extract meaning from these sentences. \n",
    "\n",
    "## Token Normalization\n",
    "Now that we have split our data into tokens, we must further parse these tokens. It may be the case that we want the same token for different forms of a given word. For example, we may want both \"pen\" and \"pens\" to be represented by the \"pen\" token. Moreover, we may want \"person\", \"people\", and \"persons\" to all be represented by \"person\". There are two ways in which we can concatenate these tokens: stemming and lematization.\n",
    "\n",
    "### Stemming\n",
    "Stemming is the process of removing and/or replacing the suffixes of words to obtain the root meaning of the word. This normalization method simply cuts off the suffixes of various words to obtain simplified and understandable tokens. Let's apply the ```nltk.stem.PorterStemmer``` normalization method to a list of abnormal and plural words:"
   ],
   "cell_type": "markdown",
   "metadata": {}
  },
  {
   "cell_type": "code",
   "execution_count": 27,
   "metadata": {},
   "outputs": [
    {
     "output_type": "stream",
     "name": "stdout",
     "text": [
      "Original Word = persons, Stemmed Word = person\n\nOriginal Word = feet, Stemmed Word = feet\n\nOriginal Word = foot, Stemmed Word = foot\n\nOriginal Word = apples, Stemmed Word = appl\n\nOriginal Word = trying, Stemmed Word = tri\n\nOriginal Word = fries, Stemmed Word = fri\n\nOriginal Word = geese, Stemmed Word = gees\n\nOriginal Word = women, Stemmed Word = women\n\n"
     ]
    }
   ],
   "source": [
    "pstemmer = nltk.stem.PorterStemmer()\n",
    "plural_words = [\"persons\", \"feet\", \"foot\", \"apples\", \"trying\", \"fries\", \"geese\", \"women\"]\n",
    "for word in plural_words:\n",
    "    print(\"Original Word = {}, Stemmed Word = {}\\n\".format(word, pstemmer.stem(word)))"
   ]
  },
  {
   "source": [
    "From the output above, we can see that the stemmer handles words like persons, apples, and fries correctly. Notice that the stemmer also modifies the casing of each word such that the words are lower case. The stemmer fails, however, to modify women, geese, and feet to their singular counterparts. The following normalization method addresses these situations. \n",
    "\n",
    "### Lemmatization\n",
    "A lemmatizer looks up the tokens using a database formed using vast amounts of text. This normalization technique can properly address abnormal plural words. The following is an implementation of the ```nltk.stem.WordNetLemmatizer```:"
   ],
   "cell_type": "markdown",
   "metadata": {}
  },
  {
   "cell_type": "code",
   "execution_count": 28,
   "metadata": {},
   "outputs": [
    {
     "output_type": "stream",
     "name": "stdout",
     "text": [
      "Original Word = persons, Lemmatized Word = person\n",
      "\n",
      "Original Word = feet, Lemmatized Word = foot\n",
      "\n",
      "Original Word = foot, Lemmatized Word = foot\n",
      "\n",
      "Original Word = apples, Lemmatized Word = apple\n",
      "\n",
      "Original Word = trying, Lemmatized Word = trying\n",
      "\n",
      "Original Word = fries, Lemmatized Word = fry\n",
      "\n",
      "Original Word = geese, Lemmatized Word = goose\n",
      "\n",
      "Original Word = women, Lemmatized Word = woman\n",
      "\n",
      "[nltk_data] Downloading package wordnet to\n",
      "[nltk_data]     C:\\Users\\purpl\\AppData\\Roaming\\nltk_data...\n",
      "[nltk_data]   Package wordnet is already up-to-date!\n"
     ]
    }
   ],
   "source": [
    "wnlemmatizer = nltk.stem.WordNetLemmatizer()\n",
    "nltk.download('wordnet')\n",
    "for word in plural_words:\n",
    "    print(\"Original Word = {}, Lemmatized Word = {}\\n\".format(word, wnlemmatizer.lemmatize(word)))"
   ]
  },
  {
   "source": [
    "The problem with this normalization technique is that some words that have different meanings are reduced to the same lemma in niche circumstances. It is important to determine the context in which these tokenization methods are used so that we can make an informed decision as to which one will work better.\n",
    "\n",
    "# Token Representations\n",
    "Now that we have normalized the tokens appropriately, we must represent these tokens in a way that a machine can understand them. Models like neural networks and SVMs accept rational vector inputs. We need to transform these string tokens into real-numbered vectors that are related to the string tokens in some meaningful way.\n",
    "\n",
    "Given a corpus, the vocabulary of the corpus is all of the unique words extracted from the corpus through tokenization. We need to represent every word in the vocabulary with some real-numbered vector. \n",
    "\n",
    "There are a few ways that we can do this. We can manually create representations for tokens by one-hot encoding each token uniquely or by manually training a set of custom word embeddings. Alternatively, we can use pre-trained word embeddings like Word2Vec embeddings and GloVe embeddings.\n",
    "\n",
    "Consider the following tokenized and lemmatized Amazon review example:"
   ],
   "cell_type": "markdown",
   "metadata": {}
  },
  {
   "source": [
    "np.random.seed(8)\n",
    "sentence = train_lines[np.random.randint(100)][11:]\n",
    "print(\"Original Sentence:\\n{}\".format(sentence))\n",
    "\n",
    "tree_bank_tokenizer = nltk.tokenize.TreebankWordTokenizer()\n",
    "wnlemmatizer = nltk.stem.WordNetLemmatizer()\n",
    "words = tree_bank_tokenizer.tokenize(sentence)\n",
    "words = [wnlemmatizer.lemmatize(word) for word in words]\n",
    "print(\"\\nTokenized & Lemmatized Sentence:\\n{}\".format(words))\n",
    "\n",
    "vocabulary = set(words)\n",
    "print(\"\\nVocabulary:\\n{}\".format(vocabulary))"
   ],
   "cell_type": "code",
   "metadata": {},
   "execution_count": 19,
   "outputs": [
    {
     "output_type": "stream",
     "name": "stdout",
     "text": [
      "Original Sentence:\nEven Mommy has fun with this one!: My four year old daughter loves everything Barbie and loves the Rapunzel movie. This game is tons of fun, even for a 42 year old. We love playing it together. We love decorating all the rooms and finding the gems. What even better is, she can play it alone and I get some me time!\n\n\nTokenized & Lemmatized Sentence:\n['Even', 'Mommy', 'ha', 'fun', 'with', 'this', 'one', '!', ':', 'My', 'four', 'year', 'old', 'daughter', 'love', 'everything', 'Barbie', 'and', 'love', 'the', 'Rapunzel', 'movie.', 'This', 'game', 'is', 'ton', 'of', 'fun', ',', 'even', 'for', 'a', '42', 'year', 'old.', 'We', 'love', 'playing', 'it', 'together.', 'We', 'love', 'decorating', 'all', 'the', 'room', 'and', 'finding', 'the', 'gems.', 'What', 'even', 'better', 'is', ',', 'she', 'can', 'play', 'it', 'alone', 'and', 'I', 'get', 'some', 'me', 'time', '!']\n\nVocabulary:\n{'!', 'daughter', 'is', 'old', 'This', 'she', 'gems.', ',', 'Rapunzel', ':', 'Even', 'with', 'What', 'year', 'love', 'four', 'even', 'the', 'one', 'game', 'Barbie', 'it', 'alone', 'a', 'old.', 'this', 'finding', 'play', 'me', 'of', 'I', 'room', 'fun', '42', 'some', 'and', 'playing', 'ton', 'get', 'Mommy', 'decorating', 'can', 'We', 'My', 'all', 'together.', 'movie.', 'time', 'for', 'everything', 'better', 'ha'}\n"
     ]
    }
   ]
  },
  {
   "source": [
    "We will demonstrate the ways in which we can encode the parsed tokens to create meaning for a potential model.\n",
    "\n",
    "## One-Hot Encoding\n",
    "To represent the vocabulary of the above sentence using a one-hot encoding representation we simply define one-hot vectors for each of the unique words in the corpus (the tokenized sentence). \n",
    "\n",
    "There are a few problems with this method. Firstly, the dimensions of the vectors required to represent the tokens is proportional to the number of words in the vocabulary. This will inevitably slow down future models. Secondly, the relationship between the words in the vocabulary is not captured by this representation. How do we compare Queen = \\[0, 0, 0, 1\\] and King = \\[0, 1, 0, 0\\]? \n",
    "\n",
    "The snippet below illustrates a simple one-hot encoding scheme:\n",
    "\n"
   ],
   "cell_type": "markdown",
   "metadata": {}
  },
  {
   "cell_type": "code",
   "execution_count": 34,
   "metadata": {},
   "outputs": [
    {
     "output_type": "stream",
     "name": "stdout",
     "text": [
      "\nTokenized & Lemmatized Sentence:\n['I', 'bought', 'apple', ',', 'orange', ',', 'banana', ',', 'and', 'pear', '.']\n{'I', 'apple', ',', 'bought', 'pear', 'banana', 'orange', '.', 'and'}\n\nI = [1, 0, 0, 0, 0, 0, 0, 0, 0]\napple = [0, 1, 0, 0, 0, 0, 0, 0, 0]\n, = [0, 0, 1, 0, 0, 0, 0, 0, 0]\n"
     ]
    }
   ],
   "source": [
    "sentence_example = \"Today I went to the store to buy some groceries. I bought apples, oranges, bananas, and pears. I like bananas a lot and my brother likes the oranges from this store. After I bought the groceries, I walked home.\"\n",
    "smaller_sentence = \"I bought apples, oranges, bananas, and pears.\"\n",
    "tree_bank_tokenizer = nltk.tokenize.TreebankWordTokenizer()\n",
    "wnlemmatizer = nltk.stem.WordNetLemmatizer()\n",
    "example_words = tree_bank_tokenizer.tokenize(smaller_sentence)\n",
    "example_words = [wnlemmatizer.lemmatize(word) for word in example_words]\n",
    "print(\"\\nTokenized & Lemmatized Sentence:\\n{}\".format(example_words))\n",
    "\n",
    "example_vocab = set(example_words)\n",
    "print(example_vocab)\n",
    "\n",
    "print(\"\\nI = {}\".format([1, 0, 0, 0, 0, 0, 0, 0, 0]))\n",
    "print(\"apple = {}\".format([0, 1, 0, 0, 0, 0, 0, 0, 0]))\n",
    "print(\", = {}\".format([0, 0, 1, 0, 0, 0, 0, 0, 0]))"
   ]
  },
  {
   "source": [
    "## GloVe Embeddings\n",
    "Instead of using one-hot encodings we can use pre-trained \"GloVe\" embeddings. Using pre-trained GloVe embeddings we can cast our vocabulary into real-numbered vectors of a dimension of our choosing. These vector representations possess the similarity expressed by the original tokens. We can determine how similar two vectors are by computing their cosine similarity or euclidean distance. We can illustrate the power of GloVe embeddings using the tokens from the previous example:"
   ],
   "cell_type": "markdown",
   "metadata": {}
  },
  {
   "cell_type": "code",
   "execution_count": 20,
   "metadata": {},
   "outputs": [
    {
     "output_type": "stream",
     "name": "stderr",
     "text": [
      ".vector_cache\\glove.6B.zip: 862MB [12:11, 1.18MB/s]                           \n",
      " 99%|█████████▉| 396912/400000 [00:11<00:00, 33987.60it/s]"
     ]
    }
   ],
   "source": [
    "# loading GloVe vectors\n",
    "glove = torchtext.vocab.GloVe(name=\"6B\", dim=50)"
   ]
  },
  {
   "cell_type": "code",
   "execution_count": 23,
   "metadata": {},
   "outputs": [
    {
     "output_type": "stream",
     "name": "stdout",
     "text": [
      "Example of a GloVe Embedding:\n",
      " tensor([ 0.3765,  1.2426, -0.3974, -0.5318,  1.1870,  1.5091, -0.8417,  0.6788,\n",
      "        -0.2581, -0.4798,  0.1782,  0.7467, -0.1347, -0.9236,  0.9562,  0.2057,\n",
      "        -1.2239, -0.0550,  0.5618,  0.7808, -0.0441,  1.5692, -0.0668,  0.2514,\n",
      "         1.0403, -2.1412, -0.3199, -0.7717, -0.0292,  0.0471,  1.4145, -0.2327,\n",
      "        -0.3443,  0.2270,  0.8857, -0.2018, -0.1517,  0.3621,  0.6495, -0.6872,\n",
      "        -0.0682,  0.5360, -0.1529, -0.9016,  0.3896, -0.5230, -0.3219, -2.4262,\n",
      "         0.3005,  0.3389])\n",
      "Difference Between Time and Room:\n",
      "tensor([0.6698])\n",
      "\n",
      "Difference Between Year and Old:\n",
      "tensor([0.5512])\n"
     ]
    }
   ],
   "source": [
    "print(\"Example of a GloVe Embedding:\\n\", glove[\"daughter\"])\n",
    "\n",
    "print(\"Difference Between Time and Room:\\n{}\".format(torch.cosine_similarity(glove[\"time\"].unsqueeze(0), glove[\"room\"].unsqueeze(0))))\n",
    "print(\"\\nDifference Between Year and Old:\\n{}\".format(torch.cosine_similarity(glove[\"year\"].unsqueeze(0), glove[\"old\"].unsqueeze(0))))"
   ]
  },
  {
   "source": [
    "From the above code-snippet we can see an example of a GloVe embedding for the word \"daughter\". We can also see that the GloVe embeddings are able to capture the fact that \"year\" and \"old\" are more similar than \"time\" and \"room\". \n",
    "\n",
    "## Word2Vec\n",
    "In certain contexts it may be worth it to train your own word embeddings. GloVe vectors do not take into account the context in which your words are used the most. You can use Python's Word2Vec library to train a word embedding on a desired vocabulary. Consider the following:"
   ],
   "cell_type": "markdown",
   "metadata": {}
  },
  {
   "cell_type": "code",
   "execution_count": 24,
   "metadata": {},
   "outputs": [],
   "source": [
    "from gensim.models import Word2Vec\n",
    "word2vec = Word2Vec(sentences=[words], window=5, min_count=1, workers=4)"
   ]
  },
  {
   "cell_type": "code",
   "execution_count": 25,
   "metadata": {},
   "outputs": [
    {
     "output_type": "stream",
     "name": "stdout",
     "text": [
      "Word2Vec Vocab:\n\n{'Even': <gensim.models.keyedvectors.Vocab object at 0x0000026B36F16908>, 'Mommy': <gensim.models.keyedvectors.Vocab object at 0x0000026B36F16A08>, 'ha': <gensim.models.keyedvectors.Vocab object at 0x0000026B36F16A48>, 'fun': <gensim.models.keyedvectors.Vocab object at 0x0000026B36F16A88>, 'with': <gensim.models.keyedvectors.Vocab object at 0x0000026B36F16B08>, 'this': <gensim.models.keyedvectors.Vocab object at 0x0000026B36F16B88>, 'one': <gensim.models.keyedvectors.Vocab object at 0x0000026B36F16BC8>, '!': <gensim.models.keyedvectors.Vocab object at 0x0000026B36F16C08>, ':': <gensim.models.keyedvectors.Vocab object at 0x0000026B36F16AC8>, 'My': <gensim.models.keyedvectors.Vocab object at 0x0000026B36F16B48>, 'four': <gensim.models.keyedvectors.Vocab object at 0x0000026B36F16C48>, 'year': <gensim.models.keyedvectors.Vocab object at 0x0000026B36F16C88>, 'old': <gensim.models.keyedvectors.Vocab object at 0x0000026B36F16CC8>, 'daughter': <gensim.models.keyedvectors.Vocab object at 0x0000026B36F16D08>, 'love': <gensim.models.keyedvectors.Vocab object at 0x0000026B36F16D48>, 'everything': <gensim.models.keyedvectors.Vocab object at 0x0000026B36F16D88>, 'Barbie': <gensim.models.keyedvectors.Vocab object at 0x0000026B36F16DC8>, 'and': <gensim.models.keyedvectors.Vocab object at 0x0000026B36F16E08>, 'the': <gensim.models.keyedvectors.Vocab object at 0x0000026B36F16E48>, 'Rapunzel': <gensim.models.keyedvectors.Vocab object at 0x0000026B36F16E88>, 'movie.': <gensim.models.keyedvectors.Vocab object at 0x0000026B36F16EC8>, 'This': <gensim.models.keyedvectors.Vocab object at 0x0000026B36F16F08>, 'game': <gensim.models.keyedvectors.Vocab object at 0x0000026B36F16F48>, 'is': <gensim.models.keyedvectors.Vocab object at 0x0000026B36F16F88>, 'ton': <gensim.models.keyedvectors.Vocab object at 0x0000026B36F16FC8>, 'of': <gensim.models.keyedvectors.Vocab object at 0x0000026B14AFD048>, ',': <gensim.models.keyedvectors.Vocab object at 0x0000026B14AFD088>, 'even': <gensim.models.keyedvectors.Vocab object at 0x0000026B14AFD0C8>, 'for': <gensim.models.keyedvectors.Vocab object at 0x0000026B14AFD108>, 'a': <gensim.models.keyedvectors.Vocab object at 0x0000026B14AFD148>, '42': <gensim.models.keyedvectors.Vocab object at 0x0000026B14AFD188>, 'old.': <gensim.models.keyedvectors.Vocab object at 0x0000026B14AFD1C8>, 'We': <gensim.models.keyedvectors.Vocab object at 0x0000026B14AFD208>, 'playing': <gensim.models.keyedvectors.Vocab object at 0x0000026B14AFD248>, 'it': <gensim.models.keyedvectors.Vocab object at 0x0000026B14AFD288>, 'together.': <gensim.models.keyedvectors.Vocab object at 0x0000026B14AFD2C8>, 'decorating': <gensim.models.keyedvectors.Vocab object at 0x0000026B14AFD308>, 'all': <gensim.models.keyedvectors.Vocab object at 0x0000026B14AFD348>, 'room': <gensim.models.keyedvectors.Vocab object at 0x0000026B14AFD388>, 'finding': <gensim.models.keyedvectors.Vocab object at 0x0000026B14AFD3C8>, 'gems.': <gensim.models.keyedvectors.Vocab object at 0x0000026B14AFD408>, 'What': <gensim.models.keyedvectors.Vocab object at 0x0000026B14AFD448>, 'better': <gensim.models.keyedvectors.Vocab object at 0x0000026B14AFD488>, 'she': <gensim.models.keyedvectors.Vocab object at 0x0000026B14AFD4C8>, 'can': <gensim.models.keyedvectors.Vocab object at 0x0000026B14AFD508>, 'play': <gensim.models.keyedvectors.Vocab object at 0x0000026B14AFD548>, 'alone': <gensim.models.keyedvectors.Vocab object at 0x0000026B14AFD588>, 'I': <gensim.models.keyedvectors.Vocab object at 0x0000026B14AFD5C8>, 'get': <gensim.models.keyedvectors.Vocab object at 0x0000026B14AFD608>, 'some': <gensim.models.keyedvectors.Vocab object at 0x0000026B14AFD648>, 'me': <gensim.models.keyedvectors.Vocab object at 0x0000026B14AFD688>, 'time': <gensim.models.keyedvectors.Vocab object at 0x0000026B14AFD6C8>}\n"
     ]
    }
   ],
   "source": [
    "word2vec_vocab = word2vec.wv.vocab\n",
    "print(\"Word2Vec Vocab:\\n\\n{}\".format(word2vec_vocab))"
   ]
  },
  {
   "cell_type": "code",
   "execution_count": 26,
   "metadata": {},
   "outputs": [
    {
     "output_type": "stream",
     "name": "stdout",
     "text": [
      "Word2Vec Representation of 'daughter':\n\n[ 3.5211688e-03  2.6364985e-03  4.0679798e-03 -4.3179821e-03\n  2.4403725e-03 -3.5240871e-03 -8.5906399e-04  4.6777013e-03\n -1.2507256e-03  2.6312547e-03 -1.0149940e-03  3.8704972e-03\n -6.2587124e-04  1.0074557e-04 -3.2480017e-03  3.6986542e-03\n  6.0538697e-04  4.5943907e-03 -4.4524707e-03 -4.6282972e-04\n -1.4446572e-03 -4.8187519e-03 -3.7223487e-03 -3.6479782e-05\n  2.4653783e-03 -1.2473635e-03 -2.9013436e-03 -2.8525887e-03\n  2.5476911e-03 -5.7743001e-04  1.3899597e-05  4.9473182e-04\n  1.0352640e-03  1.6945944e-03 -3.8529942e-03 -7.5856247e-04\n -7.0144766e-04  2.3377314e-03  4.6565677e-03  1.6149905e-03\n -4.1564498e-03  3.1118733e-03 -4.3737227e-03  3.8428225e-03\n -7.3938537e-04 -3.0566932e-04 -9.8860858e-04 -1.5108048e-03\n -4.7006737e-03  4.2761969e-03 -1.1070940e-03  4.6723671e-03\n  1.3188018e-03 -2.2572596e-03  3.8128761e-03  2.1006225e-03\n  2.5130657e-03  5.6538871e-04  1.4183149e-03 -3.0123282e-04\n -1.2050306e-03 -2.1606837e-03  4.0003373e-03  2.7581670e-03\n -3.5865132e-03  1.1598059e-03 -3.3092403e-03  2.0245710e-05\n -2.0625219e-03 -2.3103389e-03 -1.0275553e-03  9.1600785e-04\n -4.1728752e-05  3.4236140e-04  2.3524512e-03 -1.8453109e-03\n  3.9118310e-03 -4.0738196e-03  2.0257337e-03  3.2457469e-03\n  2.2172893e-03  4.1456688e-03 -4.0353131e-03 -4.6428451e-03\n  3.4847660e-03  3.2737849e-03  2.3871253e-03 -1.2862756e-03\n  3.9592134e-03  2.1442412e-03  3.6823838e-03  2.1866967e-03\n  1.1239488e-03 -3.4706038e-03 -2.9492490e-03 -4.7226804e-03\n  2.5197712e-03  3.9399476e-03 -1.1691633e-03  1.6860215e-03]\n"
     ]
    }
   ],
   "source": [
    "print(\"Word2Vec Representation of 'daughter':\\n\\n{}\".format(word2vec.wv[\"daughter\"]))"
   ]
  },
  {
   "source": [
    "The above snippet provides the Word2Vec model with a vocabulary of one sentence. Then, it computes the Word2Vec representation of \"daughter\". Just like GloVe vectors, Word2Vec embeddings retain the similarity of similar tokens. \n",
    "\n",
    "A major drawback of Word2Vec is that it requires a large corpus to be trained on. If a small corpus is provided then the similarity between the words in the corpus will not be captured accurately. This will ultimately produce a poor model that cannot learn from its inputs. "
   ],
   "cell_type": "markdown",
   "metadata": {}
  }
 ]
}